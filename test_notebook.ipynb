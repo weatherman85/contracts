{
 "cells": [
  {
   "cell_type": "code",
   "execution_count": 1,
   "metadata": {},
   "outputs": [
    {
     "name": "stderr",
     "output_type": "stream",
     "text": [
      "c:\\Users\\seang\\AppData\\Local\\Programs\\Python\\Python311\\Lib\\site-packages\\thinc\\compat.py:36: UserWarning: 'has_mps' is deprecated, please use 'torch.backends.mps.is_built()'\n",
      "  hasattr(torch, \"has_mps\")\n",
      "c:\\Users\\seang\\AppData\\Local\\Programs\\Python\\Python311\\Lib\\site-packages\\thinc\\compat.py:37: UserWarning: 'has_mps' is deprecated, please use 'torch.backends.mps.is_built()'\n",
      "  and torch.has_mps  # type: ignore[attr-defined]\n",
      "c:\\Users\\seang\\AppData\\Local\\Programs\\Python\\Python311\\Lib\\site-packages\\tqdm\\auto.py:21: TqdmWarning: IProgress not found. Please update jupyter and ipywidgets. See https://ipywidgets.readthedocs.io/en/stable/user_install.html\n",
      "  from .autonotebook import tqdm as notebook_tqdm\n"
     ]
    }
   ],
   "source": [
    "from contract import ContractPipeline\n",
    "from ner.clf_ner import CLF_NER\n",
    "from ner.regex_ner import RegexNER\n",
    "from normalization.date_normalizer import DateNorm\n",
    "from normalization.gov_normalizer import GovNorm\n",
    "from normalization.lang_normalizer import LangNorm\n",
    "from normalization.entity_normalizer import EntityNormalizer\n",
    "from classification.transformer_classifier import TransformersClassifier\n",
    "from classification.sklearn_classifier import SklearnClassifier\n",
    "from ner.transformer_ner import TransformersNER\n",
    "import pandas as pd\n"
   ]
  },
  {
   "cell_type": "code",
   "execution_count": null,
   "metadata": {},
   "outputs": [],
   "source": [
    "contract_pipeline = ContractPipeline()\n"
   ]
  },
  {
   "cell_type": "code",
   "execution_count": 3,
   "metadata": {},
   "outputs": [
    {
     "name": "stderr",
     "output_type": "stream",
     "text": [
      "DEBUG:urllib3.connectionpool:Starting new HTTPS connection (1): huggingface.co:443\n",
      "DEBUG:urllib3.connectionpool:https://huggingface.co:443 \"HEAD /sguarnaccio/gov_law_clf_ner/resolve/main/config.json HTTP/1.1\" 200 0\n",
      "DEBUG:urllib3.connectionpool:https://huggingface.co:443 \"HEAD /sguarnaccio/gov_law_clf_ner/resolve/main/config.json HTTP/1.1\" 200 0\n",
      "c:\\Users\\seang\\AppData\\Local\\Programs\\Python\\Python311\\Lib\\site-packages\\torch\\_utils.py:831: UserWarning: TypedStorage is deprecated. It will be removed in the future and UntypedStorage will be the only storage class. This should only matter to you if you are using storages directly.  To access UntypedStorage directly, use tensor.untyped_storage() instead of tensor.storage()\n",
      "  return self.fget.__get__(instance, owner)()\n",
      "DEBUG:urllib3.connectionpool:https://huggingface.co:443 \"HEAD /sguarnaccio/gov_law_clf_ner/resolve/main/tokenizer_config.json HTTP/1.1\" 200 0\n",
      "c:\\Users\\seang\\AppData\\Local\\Programs\\Python\\Python311\\Lib\\site-packages\\torch\\nn\\modules\\rnn.py:82: UserWarning: dropout option adds dropout after all but last recurrent layer, so non-zero dropout expects num_layers greater than 1, but got dropout=0.1 and num_layers=1\n",
      "  warnings.warn(\"dropout option adds dropout after all but last \"\n"
     ]
    }
   ],
   "source": [
    "gov_law_ner = CLF_NER(keywords=[\"law\",\"jurisdicition\",\"governing\"],model=\"sguarnaccio/gov_law_clf_ner\",normalizer=GovNorm())\n",
    "contract_pipeline.add_pipe(name=\"governing_law\",component=gov_law_ner)\n"
   ]
  },
  {
   "cell_type": "code",
   "execution_count": 4,
   "metadata": {},
   "outputs": [],
   "source": [
    "effective_date_rules = [(r\"(?:effective|dated) (?:as of|on)*? ((?:\\d{1,2}[-/th|st|nd|rd\\s]*)?(?:Jan|Feb|Mar|Apr|May|Jun|Jul|Aug|Sep|Oct|Nov|Dec|January|February|March|April|May|June|July|August|September|October|November|Decmebter)?[a-z\\s,.]*(?:\\d{1,2}[-/th|st|nd|rd)\\s,]*)+(?:\\d{2,4})+)\",\n",
    "                   \"EFFECTIVE_DATE\"),\n",
    "                   (\n",
    "                   r\"(?:effective|dated) (?:as of|on)*? ((?<!\\d)([1-9]|([12][0-9])|(3[01]))(?!\\d))((?<=1)st|(?<=2)nd|(?<=3)rd|(?<=[0456789])th|\\\"|°)?\\s*(January|February|March|April|May|June|July|August|September|October|November|December|Jan|Feb|Mar|Apr|May|Jun|Jul|Aug|Sep|Oct|Nov|Dec|JANUARY|FEBRUARY|MARCH|APRIL|MAY|JUNE|JULY|AUGUST|SEPTEMBER|OCTOBER|NOVEMBER|DECEMBER|JAN|FEB|MAR|APR|MAY|JUN|JUL|AUG|SEP|OCT|NOV|DEC)\\s*(?<!\\d)([12][0-9]{3})(?!\\d)\",\n",
    "                   \"EFFECTIVE_DATE\"),\n",
    "                   (\n",
    "                   r\"(?:effective|dated) (?:as of|on)*? ((?<!\\d)([1-9]|([12][0-9])|(3[01]))(?!\\d))((?<=1)st|(?<=2)nd|(?<=3)rd|(?<=[0456789])th|\\\"|°)?\\s*(January|February|March|April|May|June|July|August|September|October|November|December|Jan|Feb|Mar|Apr|May|Jun|Jul|Aug|Sep|Oct|Nov|Dec|JANUARY|FEBRUARY|MARCH|APRIL|MAY|JUNE|JULY|AUGUST|SEPTEMBER|OCTOBER|NOVEMBER|DECEMBER|JAN|FEB|MAR|APR|MAY|JUN|JUL|AUG|SEP|OCT|NOV|DEC)\\s*[,\\.]\\s*(?<!\\d)([12][0-9]{3})(?!\\d)\",\n",
    "                   \"EFFECTIVE_DATE\"),\n",
    "                   (\n",
    "                   r\"(?:effective|dated) (?:as of|on)*? ((?<!\\d)([1-9]|([12][0-9])|(3[01]))(?!\\d))((?<=1)st|(?<=2)nd|(?<=3)rd|(?<=[0456789])th|\\\"|°)?\\s*(day)\\s*(of)\\s*(January|February|March|April|May|June|July|August|September|October|November|December|Jan|Feb|Mar|Apr|May|Jun|Jul|Aug|Sep|Oct|Nov|Dec|JANUARY|FEBRUARY|MARCH|APRIL|MAY|JUNE|JULY|AUGUST|SEPTEMBER|OCTOBER|NOVEMBER|DECEMBER|JAN|FEB|MAR|APR|MAY|JUN|JUL|AUG|SEP|OCT|NOV|DEC)\\s*[,\\.]\\s*(?<!\\d)([12][0-9]{3})(?!\\d)\",\n",
    "                   \"EFFECTIVE_DATE\"),\n",
    "                   (\n",
    "                   r\"(?:effective|dated) (?:as of|on)*? (January|February|March|April|May|June|July|August|September|October|November|December|Jan|Feb|Mar|Apr|May|Jun|Jul|Aug|Sep|Oct|Nov|Dec|JANUARY|FEBRUARY|MARCH|APRIL|MAY|JUNE|JULY|AUGUST|SEPTEMBER|OCTOBER|NOVEMBER|DECEMBER|JAN|FEB|MAR|APR|MAY|JUN|JUL|AUG|SEP|OCT|NOV|DEC)\\s*((?<!\\d)([1-9]|([12][0-9])|(3[01]))(?!\\d))((?<=1)st|(?<=2)nd|(?<=3)rd|(?<=[0456789])th|\\\"|°)?\\s*[,\\.]\\s*(?<!\\d)([12][0-9]{3})(?!\\d)\",\n",
    "                   \"EFFECTIVE_DATE\"),\n",
    "                   (\n",
    "                   r\"(?:effective|dated) (?:as of|on)*?  ((?<!\\d)([1-9]|([12][0-9])|(3[01]))(?!\\d))((?<=1)st|(?<=2)nd|(?<=3)rd|(?<=[0456789])th|\\\"|°)?\\s*of\\s*(January|February|March|April|May|June|July|August|September|October|November|December|Jan|Feb|Mar|Apr|May|Jun|Jul|Aug|Sep|Oct|Nov|Dec|JANUARY|FEBRUARY|MARCH|APRIL|MAY|JUNE|JULY|AUGUST|SEPTEMBER|OCTOBER|NOVEMBER|DECEMBER|JAN|FEB|MAR|APR|MAY|JUN|JUL|AUG|SEP|OCT|NOV|DEC)\\s*[,\\.]\\s*(?<!\\d)([12][0-9]{3})(?!\\d)\",\n",
    "                   \"EFFECTIVE_DATE\"),\n",
    "                   (\n",
    "                   r\"(?:effective|dated) (?:as of|on)*?  (January|February|March|April|May|June|July|August|September|October|November|December|Jan|Feb|Mar|Apr|May|Jun|Jul|Aug|Sep|Oct|Nov|Dec|JANUARY|FEBRUARY|MARCH|APRIL|MAY|JUNE|JULY|AUGUST|SEPTEMBER|OCTOBER|NOVEMBER|DECEMBER|JAN|FEB|MAR|APR|MAY|JUN|JUL|AUG|SEP|OCT|NOV|DEC)\\s*[,\\.]\\s*(?<!\\d)([12][0-9]{3})(?!\\d)\",\n",
    "                   \"EFFECTIVE_DATE\")]\n",
    "\n",
    "eff_date_ner = RegexNER(normalizer=DateNorm())\n",
    "eff_date_ner.load_raw_rules(effective_date_rules)\n",
    "contract_pipeline.add_pipe(name=\"effective_date\",component=eff_date_ner)"
   ]
  },
  {
   "cell_type": "code",
   "execution_count": 5,
   "metadata": {},
   "outputs": [],
   "source": [
    "currency_rules = [(r\"(?P<currency>[\\$£€¥₹]|(?:USD|US Dollar|GBP|British Pound|EUR|Euro|JPY|Japanese Yen|INR|Indian Rupee|CAD|Canadian Dollar|AUD|Australian Dollar|CHF|Swiss Franc|CNY|Chinese Yuan|SGD|Singapore Dollar|NZD|New Zealand Dollar|HKD|Hong Kong Dollar|SEK|Swedish Krona|NOK|Norwegian Krone|KRW|South Korean Won|MXN|Mexican Peso|BRL|Brazilian Real|TRY|Turkish Lira|ZAR|South African Rand|IDR|Indonesian Rupiah|MYR|Malaysian Ringgit|PHP|Philippine Peso|THB|Thai Baht|HUF|Hungarian Forint|CZK|Czech Koruna|ILS|Israeli New Shekel|PLN|Polish Złoty|DKK|Danish Krone|AED|United Arab Emirates Dirham|SAR|Saudi Riyal|RON|Romanian Leu|RUB|Russian Ruble|CLP|Chilean Peso|TWD|New Taiwan Dollar|ARS|Argentine Peso|COP|Colombian Peso|VND|Vietnamese Đồng|NGN|Nigerian Naira|UAH|Ukrainian Hryvnia|EGP|Egyptian Pound|QAR|Qatari Riyal|BDT|Bangladeshi Taka|PKR|Pakistani Rupee|PEN|Peruvian Sol))\\s*(?P<amount>[0-9]+(?:[,.][0-9]{3})*(?:[,.][0-9]+)?)\",\"currency\")]\n",
    "currency_ner = RegexNER()\n",
    "currency_ner.load_raw_rules(currency_rules)\n",
    "contract_pipeline.add_pipe(name=\"currency\",component=currency_ner)"
   ]
  },
  {
   "cell_type": "code",
   "execution_count": 6,
   "metadata": {},
   "outputs": [],
   "source": [
    "# document_type_classifier = TransformersClassifier(\n",
    "#     model=\"sguarnaccio/document_type_identification\",\n",
    "#     attribute=\"document_type\",\n",
    "#     method = \"lines\",\n",
    "#     positive_class=\"LABEL_1\"\n",
    "# )\n",
    "# contract_pipeline.add_pipe(\n",
    "#   name=\"document_type_classifier\",\n",
    "#    component=document_type_classifier,\n",
    "#     params={\"text_range\":(0,15)})"
   ]
  },
  {
   "cell_type": "code",
   "execution_count": 7,
   "metadata": {},
   "outputs": [],
   "source": [
    "document_type_classifier = SklearnClassifier(\n",
    "    model=\"./classification/pretrained/document_type_model.pkl\",\n",
    "    method=\"lines\",\n",
    "    positive_class=1,\n",
    "    attribute=\"document_type\")\n",
    "document_type_classifier.model = document_type_classifier.model[\"Linear SVM\"][\"model\"]\n",
    "contract_pipeline.add_pipe(name=\"document_type_classifier\",component=document_type_classifier,params={\"text_range\":(0,15)})"
   ]
  },
  {
   "cell_type": "code",
   "execution_count": 8,
   "metadata": {},
   "outputs": [],
   "source": [
    "language_classifier = SklearnClassifier(\n",
    "    model=\"./classification/pretrained/document_language_model.pkl\",\n",
    "    attribute=\"language\",\n",
    "    method = \"lines\",\n",
    "    positive_class=\"multi\",\n",
    "    normalizer=LangNorm()\n",
    ")\n",
    "model = language_classifier.model[\"Linear SVM\"]\n",
    "\n",
    "language_classifier.model = model[\"model\"]\n",
    "language_classifier.label_encoder = model[\"label_encoder\"]\n",
    "contract_pipeline.add_pipe(\n",
    "    name=\"language_classifier\",\n",
    "    component=language_classifier,\n",
    "    before=\"tokenizer\",\n",
    "    params={\"text_range\":(0,50)})\n"
   ]
  },
  {
   "cell_type": "code",
   "execution_count": 9,
   "metadata": {},
   "outputs": [],
   "source": [
    "# language_classifier = TransformersClassifier(\n",
    "#     model=\"papluca/xlm-roberta-base-language-detection\",\n",
    "#     attribute=\"language\",\n",
    "#     method = \"lines\",\n",
    "#     positive_class=\"multi\",\n",
    "#     normalizer=LangNorm()\n",
    "# )\n",
    "# contract_pipeline.add_pipe(\n",
    "#   name=\"language_classifier\",\n",
    "#    component=language_classifier,\n",
    "#     params={\"text_range\":(0,15)})"
   ]
  },
  {
   "cell_type": "code",
   "execution_count": 10,
   "metadata": {},
   "outputs": [
    {
     "name": "stderr",
     "output_type": "stream",
     "text": [
      "DEBUG:urllib3.connectionpool:https://huggingface.co:443 \"HEAD /sguarnaccio/le_signatory/resolve/main/config.json HTTP/1.1\" 200 0\n"
     ]
    }
   ],
   "source": [
    "le_ner = TransformersNER(keywords=[\"signature\"],model=\"sguarnaccio/le_signatory\",normalizer=EntityNormalizer())\n",
    "contract_pipeline.add_pipe(name=\"legal_entities\",component=le_ner)"
   ]
  },
  {
   "cell_type": "code",
   "execution_count": 11,
   "metadata": {},
   "outputs": [
    {
     "data": {
      "text/plain": [
       "[{'component': <utils.ocr.FileProcessor at 0x1bc31f9b110>,\n",
       "  'name': 'file_loader'},\n",
       " {'component': <utils.clean_text.TextCleaner at 0x1bc185eb150>,\n",
       "  'name': 'clean_text',\n",
       "  'params': {'lower': False,\n",
       "   'remove_num': False,\n",
       "   'add_stop_words': None,\n",
       "   'remove_stop_words': None}},\n",
       " {'component': <classification.sklearn_classifier.SklearnClassifier at 0x1bc4d4f6dd0>,\n",
       "  'name': 'language_classifier',\n",
       "  'params': {'text_range': (0, 50)}},\n",
       " {'component': <tokenization.tokenizer.Tokenizer at 0x1bc18512590>,\n",
       "  'name': 'tokenizer'},\n",
       " {'component': <tokenization.sentence.SentenceTokenizer at 0x1bc318f8610>,\n",
       "  'name': 'sentence_tokenizer'},\n",
       " {'component': <tokenization.segments.SectionSegmenter at 0x1bc31f9b090>,\n",
       "  'name': 'section_segmenter'},\n",
       " {'component': <definitions.definitions.DefinitionFinder at 0x1bc3226f050>,\n",
       "  'name': 'definition_finder'},\n",
       " {'component': <ner.clf_ner.CLF_NER at 0x1bc322b9290>,\n",
       "  'name': 'governing_law'},\n",
       " {'component': <ner.regex_ner.RegexNER at 0x1bc4d580b50>,\n",
       "  'name': 'effective_date'},\n",
       " {'component': <ner.regex_ner.RegexNER at 0x1bc321b1310>, 'name': 'currency'},\n",
       " {'component': <classification.sklearn_classifier.SklearnClassifier at 0x1bc4d4c4310>,\n",
       "  'name': 'document_type_classifier',\n",
       "  'params': {'text_range': (0, 15)}},\n",
       " {'component': <ner.transformer_ner.TransformersNER at 0x1bc323d5c10>,\n",
       "  'name': 'legal_entities'}]"
      ]
     },
     "execution_count": 11,
     "metadata": {},
     "output_type": "execute_result"
    }
   ],
   "source": [
    "contract_pipeline.pipeline"
   ]
  },
  {
   "cell_type": "code",
   "execution_count": null,
   "metadata": {},
   "outputs": [],
   "source": [
    "import os\n",
    "for file in os.list_dir(\"tests\")"
   ]
  },
  {
   "cell_type": "code",
   "execution_count": 12,
   "metadata": {},
   "outputs": [
    {
     "name": "stderr",
     "output_type": "stream",
     "text": [
      "DEBUG:root:Preprocessed input file: C:\\Users\\seang\\AppData\\Local\\Temp\\tmp5hqkw3uc\\input.txt, format: txt\n"
     ]
    },
    {
     "name": "stdout",
     "output_type": "stream",
     "text": [
      "C:\\Users\\seang\\AppData\\Local\\Temp\\tmp5hqkw3uc\\input.txt\n"
     ]
    },
    {
     "name": "stderr",
     "output_type": "stream",
     "text": [
      "DEBUG:urllib3.connectionpool:Starting new HTTPS connection (1): api.gleif.org:443\n",
      "DEBUG:urllib3.connectionpool:https://api.gleif.org:443 \"GET /api/v1/lei-records?filter%5Bentity.legalName%5D=Owl%20Rock%20Technology%20Advisors%20Llc HTTP/1.1\" 200 None\n"
     ]
    }
   ],
   "source": [
    "doc = contract_pipeline(\"./tests/test7.txt\")"
   ]
  },
  {
   "cell_type": "code",
   "execution_count": 13,
   "metadata": {},
   "outputs": [],
   "source": [
    "pd.DataFrame(\n",
    "    [(segment.section,segment.subsection,segment.title,segment.text) \n",
    "        for segment in doc.segments]\n",
    "    ,columns=[\"Section\",\"Subsection\",\"Title\",\"Text\"]).dropna(how=\"all\")\\\n",
    ".to_excel('./tests/test.xlsx')"
   ]
  },
  {
   "cell_type": "code",
   "execution_count": 14,
   "metadata": {},
   "outputs": [
    {
     "data": {
      "text/html": [
       "<div>\n",
       "<style scoped>\n",
       "    .dataframe tbody tr th:only-of-type {\n",
       "        vertical-align: middle;\n",
       "    }\n",
       "\n",
       "    .dataframe tbody tr th {\n",
       "        vertical-align: top;\n",
       "    }\n",
       "\n",
       "    .dataframe thead th {\n",
       "        text-align: right;\n",
       "    }\n",
       "</style>\n",
       "<table border=\"1\" class=\"dataframe\">\n",
       "  <thead>\n",
       "    <tr style=\"text-align: right;\">\n",
       "      <th></th>\n",
       "      <th>Term</th>\n",
       "      <th>Definition</th>\n",
       "      <th>Phrase</th>\n",
       "    </tr>\n",
       "  </thead>\n",
       "  <tbody>\n",
       "    <tr>\n",
       "      <th>0</th>\n",
       "      <td>Agreement</td>\n",
       "      <td>this Agreement, as amended from time to time.</td>\n",
       "      <td>\" Agreement\" shall mean this Agreement, as ame...</td>\n",
       "    </tr>\n",
       "    <tr>\n",
       "      <th>1</th>\n",
       "      <td>Cause</td>\n",
       "      <td>set forth in Section 14.\" Collateral Manager I...</td>\n",
       "      <td>\" Cause\" shall have the meaning set forth in S...</td>\n",
       "    </tr>\n",
       "    <tr>\n",
       "      <th>2</th>\n",
       "      <td>Collateral Manager Information</td>\n",
       "      <td>ascribed to such term in the Offering Circular.</td>\n",
       "      <td>\" Cause\" shall have the meaning set forth in S...</td>\n",
       "    </tr>\n",
       "    <tr>\n",
       "      <th>3</th>\n",
       "      <td>Collateral Manager Securities</td>\n",
       "      <td>any Securities owned by the Collateral Manager...</td>\n",
       "      <td>\" Collateral Manager Securities\" shall mean an...</td>\n",
       "    </tr>\n",
       "    <tr>\n",
       "      <th>4</th>\n",
       "      <td>Governing Instruments</td>\n",
       "      <td>the memorandum of association, articles of ass...</td>\n",
       "      <td>\" Governing Instruments\" shall mean the memora...</td>\n",
       "    </tr>\n",
       "    <tr>\n",
       "      <th>5</th>\n",
       "      <td>Notice of Removal</td>\n",
       "      <td>set forth in Section 14.\" Offering Circular\" s...</td>\n",
       "      <td>\" Notice of Removal\" shall have the meaning se...</td>\n",
       "    </tr>\n",
       "    <tr>\n",
       "      <th>6</th>\n",
       "      <td>Offering Circular</td>\n",
       "      <td>the final Offering Circular with respect to th...</td>\n",
       "      <td>\" Notice of Removal\" shall have the meaning se...</td>\n",
       "    </tr>\n",
       "    <tr>\n",
       "      <th>7</th>\n",
       "      <td>Related Person</td>\n",
       "      <td>with respect to any Person, the owners of the ...</td>\n",
       "      <td>\" Related Person\" shall mean with respect to a...</td>\n",
       "    </tr>\n",
       "    <tr>\n",
       "      <th>8</th>\n",
       "      <td>Responsible Officer</td>\n",
       "      <td>, with respect to any Person, any duly authori...</td>\n",
       "      <td>\" Responsible Officer\" shall mean, with respec...</td>\n",
       "    </tr>\n",
       "    <tr>\n",
       "      <th>9</th>\n",
       "      <td>Termination Notice</td>\n",
       "      <td>set forth in Section 14. 2.General Duties and ...</td>\n",
       "      <td>\" Termination Notice\" shall have the meaning s...</td>\n",
       "    </tr>\n",
       "  </tbody>\n",
       "</table>\n",
       "</div>"
      ],
      "text/plain": [
       "                              Term  \\\n",
       "0                        Agreement   \n",
       "1                            Cause   \n",
       "2   Collateral Manager Information   \n",
       "3    Collateral Manager Securities   \n",
       "4            Governing Instruments   \n",
       "5                Notice of Removal   \n",
       "6                Offering Circular   \n",
       "7                   Related Person   \n",
       "8              Responsible Officer   \n",
       "9               Termination Notice   \n",
       "\n",
       "                                          Definition  \\\n",
       "0      this Agreement, as amended from time to time.   \n",
       "1  set forth in Section 14.\" Collateral Manager I...   \n",
       "2    ascribed to such term in the Offering Circular.   \n",
       "3  any Securities owned by the Collateral Manager...   \n",
       "4  the memorandum of association, articles of ass...   \n",
       "5  set forth in Section 14.\" Offering Circular\" s...   \n",
       "6  the final Offering Circular with respect to th...   \n",
       "7  with respect to any Person, the owners of the ...   \n",
       "8  , with respect to any Person, any duly authori...   \n",
       "9  set forth in Section 14. 2.General Duties and ...   \n",
       "\n",
       "                                              Phrase  \n",
       "0  \" Agreement\" shall mean this Agreement, as ame...  \n",
       "1  \" Cause\" shall have the meaning set forth in S...  \n",
       "2  \" Cause\" shall have the meaning set forth in S...  \n",
       "3  \" Collateral Manager Securities\" shall mean an...  \n",
       "4  \" Governing Instruments\" shall mean the memora...  \n",
       "5  \" Notice of Removal\" shall have the meaning se...  \n",
       "6  \" Notice of Removal\" shall have the meaning se...  \n",
       "7  \" Related Person\" shall mean with respect to a...  \n",
       "8  \" Responsible Officer\" shall mean, with respec...  \n",
       "9  \" Termination Notice\" shall have the meaning s...  "
      ]
     },
     "execution_count": 14,
     "metadata": {},
     "output_type": "execute_result"
    }
   ],
   "source": [
    "pd.DataFrame([(df.term,df.definition,df.phrase) for df in doc.glossary],columns=[\"Term\",\"Definition\",\"Phrase\"])"
   ]
  },
  {
   "cell_type": "code",
   "execution_count": 15,
   "metadata": {},
   "outputs": [
    {
     "name": "stdout",
     "output_type": "stream",
     "text": [
      "LAW OF THE STATE OF NEW YORK United States, New York gov_law [None, None, None, None, None]\n",
      "dated as of December 16, 2020 2020-12-16 EFFECTIVE_DATE [None, None, None, None, None, None, None]\n",
      "dated as of December 16, 2020 2020-12-16 EFFECTIVE_DATE [None, None, None, None, None, None, None]\n",
      "owl rock technology advisors llc Owl Rock Technology Advisors Llc legal_entity [None, None, None, None, None]\n"
     ]
    }
   ],
   "source": [
    "for ent in doc.ents:\n",
    "    print(ent.name,ent.normalized,ent.label)"
   ]
  },
  {
   "cell_type": "code",
   "execution_count": 16,
   "metadata": {},
   "outputs": [
    {
     "data": {
      "text/plain": [
       "'English'"
      ]
     },
     "execution_count": 16,
     "metadata": {},
     "output_type": "execute_result"
    }
   ],
   "source": [
    "doc.language"
   ]
  },
  {
   "cell_type": "code",
   "execution_count": 17,
   "metadata": {},
   "outputs": [
    {
     "data": {
      "text/plain": [
       "'COLLATERAL MANAGEMENT AGREEMENT'"
      ]
     },
     "execution_count": 17,
     "metadata": {},
     "output_type": "execute_result"
    }
   ],
   "source": [
    "doc.document_type"
   ]
  },
  {
   "cell_type": "code",
   "execution_count": 18,
   "metadata": {},
   "outputs": [
    {
     "name": "stdout",
     "output_type": "stream",
     "text": [
      "owl rock technology advisors llc [None, None, None, None, None]\n"
     ]
    }
   ],
   "source": [
    "for ent in doc.ents:\n",
    "    if ent.label == \"legal_entity\":\n",
    "        print(ent.name,ent.bbox_span)"
   ]
  },
  {
   "cell_type": "code",
   "execution_count": null,
   "metadata": {},
   "outputs": [],
   "source": []
  }
 ],
 "metadata": {
  "kernelspec": {
   "display_name": "Python 3",
   "language": "python",
   "name": "python3"
  },
  "language_info": {
   "codemirror_mode": {
    "name": "ipython",
    "version": 3
   },
   "file_extension": ".py",
   "mimetype": "text/x-python",
   "name": "python",
   "nbconvert_exporter": "python",
   "pygments_lexer": "ipython3",
   "version": "3.11.1"
  }
 },
 "nbformat": 4,
 "nbformat_minor": 2
}

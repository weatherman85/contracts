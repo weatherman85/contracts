{
 "cells": [
  {
   "cell_type": "code",
   "execution_count": 1,
   "metadata": {},
   "outputs": [
    {
     "name": "stderr",
     "output_type": "stream",
     "text": [
      "c:\\Users\\seang\\AppData\\Local\\Programs\\Python\\Python311\\Lib\\site-packages\\thinc\\compat.py:36: UserWarning: 'has_mps' is deprecated, please use 'torch.backends.mps.is_built()'\n",
      "  hasattr(torch, \"has_mps\")\n",
      "c:\\Users\\seang\\AppData\\Local\\Programs\\Python\\Python311\\Lib\\site-packages\\thinc\\compat.py:37: UserWarning: 'has_mps' is deprecated, please use 'torch.backends.mps.is_built()'\n",
      "  and torch.has_mps  # type: ignore[attr-defined]\n",
      "c:\\Users\\seang\\AppData\\Local\\Programs\\Python\\Python311\\Lib\\site-packages\\tqdm\\auto.py:21: TqdmWarning: IProgress not found. Please update jupyter and ipywidgets. See https://ipywidgets.readthedocs.io/en/stable/user_install.html\n",
      "  from .autonotebook import tqdm as notebook_tqdm\n"
     ]
    }
   ],
   "source": [
    "from contract import ContractPipeline\n",
    "from ner.clf_ner import CLF_NER\n",
    "from ner.regex_ner import RegexNER\n",
    "from normalization.date_normalizer import DateNorm\n",
    "from normalization.gov_normalizer import GovNorm\n",
    "from normalization.lang_normalizer import LangNorm\n",
    "from normalization.entity_normalizer import EntityNormalizer\n",
    "from classification.transformer_classifier import TransformersClassifier\n",
    "from classification.sklearn_classifier import SklearnClassifier\n",
    "from ner.transformer_ner import TransformersNER\n",
    "import pandas as pd\n"
   ]
  },
  {
   "cell_type": "code",
   "execution_count": 2,
   "metadata": {},
   "outputs": [],
   "source": [
    "contract_pipeline = ContractPipeline()\n"
   ]
  },
  {
   "cell_type": "code",
   "execution_count": 3,
   "metadata": {},
   "outputs": [
    {
     "name": "stderr",
     "output_type": "stream",
     "text": [
      "c:\\Users\\seang\\AppData\\Local\\Programs\\Python\\Python311\\Lib\\site-packages\\torch\\nn\\modules\\rnn.py:83: UserWarning: dropout option adds dropout after all but last recurrent layer, so non-zero dropout expects num_layers greater than 1, but got dropout=0.1 and num_layers=1\n",
      "  warnings.warn(\"dropout option adds dropout after all but last \"\n"
     ]
    }
   ],
   "source": [
    "gov_law_ner = CLF_NER(keywords=[\"law\",\"jurisdicition\",\"governing\"],model=\"sguarnaccio/gov_law_clf_ner\",normalizer=GovNorm())\n",
    "contract_pipeline.add_pipe(name=\"governing_law\",component=gov_law_ner)\n"
   ]
  },
  {
   "cell_type": "code",
   "execution_count": 4,
   "metadata": {},
   "outputs": [],
   "source": [
    "effective_date_rules = [(r\"(?:effective|dated) (?:as of|on)*? ((?:\\d{1,2}[-/th|st|nd|rd\\s]*)?(?:Jan|Feb|Mar|Apr|May|Jun|Jul|Aug|Sep|Oct|Nov|Dec|January|February|March|April|May|June|July|August|September|October|November|Decmebter)?[a-z\\s,.]*(?:\\d{1,2}[-/th|st|nd|rd)\\s,]*)+(?:\\d{2,4})+)\",\n",
    "                   \"EFFECTIVE_DATE\"),\n",
    "                   (\n",
    "                   r\"(?:effective|dated) (?:as of|on)*? ((?<!\\d)([1-9]|([12][0-9])|(3[01]))(?!\\d))((?<=1)st|(?<=2)nd|(?<=3)rd|(?<=[0456789])th|\\\"|°)?\\s*(January|February|March|April|May|June|July|August|September|October|November|December|Jan|Feb|Mar|Apr|May|Jun|Jul|Aug|Sep|Oct|Nov|Dec|JANUARY|FEBRUARY|MARCH|APRIL|MAY|JUNE|JULY|AUGUST|SEPTEMBER|OCTOBER|NOVEMBER|DECEMBER|JAN|FEB|MAR|APR|MAY|JUN|JUL|AUG|SEP|OCT|NOV|DEC)\\s*(?<!\\d)([12][0-9]{3})(?!\\d)\",\n",
    "                   \"EFFECTIVE_DATE\"),\n",
    "                   (\n",
    "                   r\"(?:effective|dated) (?:as of|on)*? ((?<!\\d)([1-9]|([12][0-9])|(3[01]))(?!\\d))((?<=1)st|(?<=2)nd|(?<=3)rd|(?<=[0456789])th|\\\"|°)?\\s*(January|February|March|April|May|June|July|August|September|October|November|December|Jan|Feb|Mar|Apr|May|Jun|Jul|Aug|Sep|Oct|Nov|Dec|JANUARY|FEBRUARY|MARCH|APRIL|MAY|JUNE|JULY|AUGUST|SEPTEMBER|OCTOBER|NOVEMBER|DECEMBER|JAN|FEB|MAR|APR|MAY|JUN|JUL|AUG|SEP|OCT|NOV|DEC)\\s*[,\\.]\\s*(?<!\\d)([12][0-9]{3})(?!\\d)\",\n",
    "                   \"EFFECTIVE_DATE\"),\n",
    "                   (\n",
    "                   r\"(?:effective|dated) (?:as of|on)*? ((?<!\\d)([1-9]|([12][0-9])|(3[01]))(?!\\d))((?<=1)st|(?<=2)nd|(?<=3)rd|(?<=[0456789])th|\\\"|°)?\\s*(day)\\s*(of)\\s*(January|February|March|April|May|June|July|August|September|October|November|December|Jan|Feb|Mar|Apr|May|Jun|Jul|Aug|Sep|Oct|Nov|Dec|JANUARY|FEBRUARY|MARCH|APRIL|MAY|JUNE|JULY|AUGUST|SEPTEMBER|OCTOBER|NOVEMBER|DECEMBER|JAN|FEB|MAR|APR|MAY|JUN|JUL|AUG|SEP|OCT|NOV|DEC)\\s*[,\\.]\\s*(?<!\\d)([12][0-9]{3})(?!\\d)\",\n",
    "                   \"EFFECTIVE_DATE\"),\n",
    "                   (\n",
    "                   r\"(?:effective|dated) (?:as of|on)*? (January|February|March|April|May|June|July|August|September|October|November|December|Jan|Feb|Mar|Apr|May|Jun|Jul|Aug|Sep|Oct|Nov|Dec|JANUARY|FEBRUARY|MARCH|APRIL|MAY|JUNE|JULY|AUGUST|SEPTEMBER|OCTOBER|NOVEMBER|DECEMBER|JAN|FEB|MAR|APR|MAY|JUN|JUL|AUG|SEP|OCT|NOV|DEC)\\s*((?<!\\d)([1-9]|([12][0-9])|(3[01]))(?!\\d))((?<=1)st|(?<=2)nd|(?<=3)rd|(?<=[0456789])th|\\\"|°)?\\s*[,\\.]\\s*(?<!\\d)([12][0-9]{3})(?!\\d)\",\n",
    "                   \"EFFECTIVE_DATE\"),\n",
    "                   (\n",
    "                   r\"(?:effective|dated) (?:as of|on)*?  ((?<!\\d)([1-9]|([12][0-9])|(3[01]))(?!\\d))((?<=1)st|(?<=2)nd|(?<=3)rd|(?<=[0456789])th|\\\"|°)?\\s*of\\s*(January|February|March|April|May|June|July|August|September|October|November|December|Jan|Feb|Mar|Apr|May|Jun|Jul|Aug|Sep|Oct|Nov|Dec|JANUARY|FEBRUARY|MARCH|APRIL|MAY|JUNE|JULY|AUGUST|SEPTEMBER|OCTOBER|NOVEMBER|DECEMBER|JAN|FEB|MAR|APR|MAY|JUN|JUL|AUG|SEP|OCT|NOV|DEC)\\s*[,\\.]\\s*(?<!\\d)([12][0-9]{3})(?!\\d)\",\n",
    "                   \"EFFECTIVE_DATE\"),\n",
    "                   (\n",
    "                   r\"(?:effective|dated) (?:as of|on)*?  (January|February|March|April|May|June|July|August|September|October|November|December|Jan|Feb|Mar|Apr|May|Jun|Jul|Aug|Sep|Oct|Nov|Dec|JANUARY|FEBRUARY|MARCH|APRIL|MAY|JUNE|JULY|AUGUST|SEPTEMBER|OCTOBER|NOVEMBER|DECEMBER|JAN|FEB|MAR|APR|MAY|JUN|JUL|AUG|SEP|OCT|NOV|DEC)\\s*[,\\.]\\s*(?<!\\d)([12][0-9]{3})(?!\\d)\",\n",
    "                   \"EFFECTIVE_DATE\")]\n",
    "\n",
    "eff_date_ner = RegexNER(normalizer=DateNorm())\n",
    "eff_date_ner.load_raw_rules(effective_date_rules)\n",
    "contract_pipeline.add_pipe(name=\"effective_date\",component=eff_date_ner)"
   ]
  },
  {
   "cell_type": "code",
   "execution_count": 5,
   "metadata": {},
   "outputs": [],
   "source": [
    "currency_rules = [(r\"(?P<currency>[\\$£€¥₹]|(?:USD|US Dollar|GBP|British Pound|EUR|Euro|JPY|Japanese Yen|INR|Indian Rupee|CAD|Canadian Dollar|AUD|Australian Dollar|CHF|Swiss Franc|CNY|Chinese Yuan|SGD|Singapore Dollar|NZD|New Zealand Dollar|HKD|Hong Kong Dollar|SEK|Swedish Krona|NOK|Norwegian Krone|KRW|South Korean Won|MXN|Mexican Peso|BRL|Brazilian Real|TRY|Turkish Lira|ZAR|South African Rand|IDR|Indonesian Rupiah|MYR|Malaysian Ringgit|PHP|Philippine Peso|THB|Thai Baht|HUF|Hungarian Forint|CZK|Czech Koruna|ILS|Israeli New Shekel|PLN|Polish Złoty|DKK|Danish Krone|AED|United Arab Emirates Dirham|SAR|Saudi Riyal|RON|Romanian Leu|RUB|Russian Ruble|CLP|Chilean Peso|TWD|New Taiwan Dollar|ARS|Argentine Peso|COP|Colombian Peso|VND|Vietnamese Đồng|NGN|Nigerian Naira|UAH|Ukrainian Hryvnia|EGP|Egyptian Pound|QAR|Qatari Riyal|BDT|Bangladeshi Taka|PKR|Pakistani Rupee|PEN|Peruvian Sol))\\s*(?P<amount>[0-9]+(?:[,.][0-9]{3})*(?:[,.][0-9]+)?)\",\"currency\")]\n",
    "currency_ner = RegexNER()\n",
    "currency_ner.load_raw_rules(currency_rules)\n",
    "contract_pipeline.add_pipe(name=\"currency\",component=currency_ner)"
   ]
  },
  {
   "cell_type": "code",
   "execution_count": 6,
   "metadata": {},
   "outputs": [],
   "source": [
    "# document_type_classifier = TransformersClassifier(\n",
    "#     model=\"sguarnaccio/document_type_identification\",\n",
    "#     attribute=\"document_type\",\n",
    "#     method = \"lines\",\n",
    "#     positive_class=\"LABEL_1\"\n",
    "# )\n",
    "# contract_pipeline.add_pipe(\n",
    "#   name=\"document_type_classifier\",\n",
    "#    component=document_type_classifier,\n",
    "#     params={\"text_range\":(0,15)})"
   ]
  },
  {
   "cell_type": "code",
   "execution_count": 7,
   "metadata": {},
   "outputs": [],
   "source": [
    "document_type_classifier = SklearnClassifier(\n",
    "    model=\"./classification/pretrained/document_type_model.pkl\",\n",
    "    method=\"lines\",\n",
    "    positive_class=1,\n",
    "    attribute=\"document_type\")\n",
    "document_type_classifier.model = document_type_classifier.model[\"Linear SVM\"][\"model\"]\n",
    "contract_pipeline.add_pipe(name=\"document_type_classifier\",component=document_type_classifier,params={\"text_range\":(0,15)})"
   ]
  },
  {
   "cell_type": "code",
   "execution_count": 8,
   "metadata": {},
   "outputs": [],
   "source": [
    "language_classifier = SklearnClassifier(\n",
    "    model=\"./classification/pretrained/document_language_model.pkl\",\n",
    "    attribute=\"language\",\n",
    "    method = \"lines\",\n",
    "    positive_class=\"multi\",\n",
    "    normalizer=LangNorm()\n",
    ")\n",
    "model = language_classifier.model[\"Linear SVM\"]\n",
    "\n",
    "language_classifier.model = model[\"model\"]\n",
    "language_classifier.label_encoder = model[\"label_encoder\"]\n",
    "contract_pipeline.add_pipe(\n",
    "    name=\"language_classifier\",\n",
    "    component=language_classifier,\n",
    "    before=\"tokenizer\",\n",
    "    params={\"text_range\":(0,50)})\n"
   ]
  },
  {
   "cell_type": "code",
   "execution_count": 9,
   "metadata": {},
   "outputs": [],
   "source": [
    "# language_classifier = TransformersClassifier(\n",
    "#     model=\"papluca/xlm-roberta-base-language-detection\",\n",
    "#     attribute=\"language\",\n",
    "#     method = \"lines\",\n",
    "#     positive_class=\"multi\",\n",
    "#     normalizer=LangNorm()\n",
    "# )\n",
    "# contract_pipeline.add_pipe(\n",
    "#   name=\"language_classifier\",\n",
    "#    component=language_classifier,\n",
    "#     params={\"text_range\":(0,15)})"
   ]
  },
  {
   "cell_type": "code",
   "execution_count": 10,
   "metadata": {},
   "outputs": [],
   "source": [
    "le_ner = TransformersNER(keywords=[\"signature\"],model=\"sguarnaccio/le_signatory\",normalizer=EntityNormalizer())\n",
    "contract_pipeline.add_pipe(name=\"legal_entities\",component=le_ner)"
   ]
  },
  {
   "cell_type": "code",
   "execution_count": 11,
   "metadata": {},
   "outputs": [
    {
     "data": {
      "text/plain": [
       "[{'component': <utils.ocr.OCRProcessor at 0x2af448fcad0>,\n",
       "  'name': 'file_loader'},\n",
       " {'component': <utils.clean_text.TextCleaner at 0x2af43018590>,\n",
       "  'name': 'clean_text',\n",
       "  'params': {'lower': False,\n",
       "   'remove_num': False,\n",
       "   'add_stop_words': None,\n",
       "   'remove_stop_words': None}},\n",
       " {'component': <classification.sklearn_classifier.SklearnClassifier at 0x2af44c152d0>,\n",
       "  'name': 'language_classifier',\n",
       "  'params': {'text_range': (0, 50)}},\n",
       " {'component': <tokenization.tokenizer.Tokenizer at 0x2af77fada50>,\n",
       "  'name': 'tokenizer'},\n",
       " {'component': <tokenization.sentence.SentenceTokenizer at 0x2af77f38ed0>,\n",
       "  'name': 'sentence_tokenizer'},\n",
       " {'component': <tokenization.segments.SectionSegmenter at 0x2af77fd2290>,\n",
       "  'name': 'section_segmenter'},\n",
       " {'component': <definitions.definitions.DefinitionFinder at 0x2af445b4590>,\n",
       "  'name': 'definition_finder'},\n",
       " {'component': <ner.clf_ner.CLF_NER at 0x2af44ae1410>,\n",
       "  'name': 'governing_law'},\n",
       " {'component': <ner.regex_ner.RegexNER at 0x2af44bce3d0>,\n",
       "  'name': 'effective_date'},\n",
       " {'component': <ner.regex_ner.RegexNER at 0x2af445d1450>, 'name': 'currency'},\n",
       " {'component': <classification.sklearn_classifier.SklearnClassifier at 0x2af44ac4f10>,\n",
       "  'name': 'document_type_classifier',\n",
       "  'params': {'text_range': (0, 15)}},\n",
       " {'component': <ner.transformer_ner.TransformersNER at 0x2af5fe2d710>,\n",
       "  'name': 'legal_entities'}]"
      ]
     },
     "execution_count": 11,
     "metadata": {},
     "output_type": "execute_result"
    }
   ],
   "source": [
    "contract_pipeline.pipeline"
   ]
  },
  {
   "cell_type": "code",
   "execution_count": 12,
   "metadata": {},
   "outputs": [],
   "source": [
    "doc = contract_pipeline(\"./tests/test7.pdf\")"
   ]
  },
  {
   "cell_type": "code",
   "execution_count": 13,
   "metadata": {},
   "outputs": [],
   "source": [
    "pd.DataFrame(\n",
    "    [(segment.section,segment.subsection,segment.title,segment.text) \n",
    "        for segment in doc.segments]\n",
    "    ,columns=[\"Section\",\"Subsection\",\"Title\",\"Text\"]).dropna(how=\"all\")\\\n",
    ".to_excel('./tests/test.xlsx')"
   ]
  },
  {
   "cell_type": "code",
   "execution_count": 14,
   "metadata": {},
   "outputs": [
    {
     "data": {
      "text/html": [
       "<div>\n",
       "<style scoped>\n",
       "    .dataframe tbody tr th:only-of-type {\n",
       "        vertical-align: middle;\n",
       "    }\n",
       "\n",
       "    .dataframe tbody tr th {\n",
       "        vertical-align: top;\n",
       "    }\n",
       "\n",
       "    .dataframe thead th {\n",
       "        text-align: right;\n",
       "    }\n",
       "</style>\n",
       "<table border=\"1\" class=\"dataframe\">\n",
       "  <thead>\n",
       "    <tr style=\"text-align: right;\">\n",
       "      <th></th>\n",
       "      <th>Term</th>\n",
       "      <th>Definition</th>\n",
       "      <th>Phrase</th>\n",
       "    </tr>\n",
       "  </thead>\n",
       "  <tbody>\n",
       "    <tr>\n",
       "      <th>0</th>\n",
       "      <td>Loan Document</td>\n",
       "      <td>include this Amendment No.</td>\n",
       "      <td>3 is a Loan Document and allreferences to a\" L...</td>\n",
       "    </tr>\n",
       "    <tr>\n",
       "      <th>1</th>\n",
       "      <td>this Agreement</td>\n",
       "      <td>and be a reference to the Credit Agreement or ...</td>\n",
       "      <td>3, each reference in the Credit Agreement or a...</td>\n",
       "    </tr>\n",
       "    <tr>\n",
       "      <th>2</th>\n",
       "      <td>hereunder</td>\n",
       "      <td>and be a reference to the Credit Agreement or ...</td>\n",
       "      <td>3, each reference in the Credit Agreement or a...</td>\n",
       "    </tr>\n",
       "    <tr>\n",
       "      <th>3</th>\n",
       "      <td>hereof</td>\n",
       "      <td>and be a reference to the Credit Agreement or ...</td>\n",
       "      <td>3, each reference in the Credit Agreement or a...</td>\n",
       "    </tr>\n",
       "    <tr>\n",
       "      <th>4</th>\n",
       "      <td>herein</td>\n",
       "      <td>and be a reference to the Credit Agreement or ...</td>\n",
       "      <td>3, each reference in the Credit Agreement or a...</td>\n",
       "    </tr>\n",
       "  </tbody>\n",
       "</table>\n",
       "</div>"
      ],
      "text/plain": [
       "              Term                                         Definition  \\\n",
       "0    Loan Document                         include this Amendment No.   \n",
       "1   this Agreement  and be a reference to the Credit Agreement or ...   \n",
       "2        hereunder  and be a reference to the Credit Agreement or ...   \n",
       "3           hereof  and be a reference to the Credit Agreement or ...   \n",
       "4           herein  and be a reference to the Credit Agreement or ...   \n",
       "\n",
       "                                              Phrase  \n",
       "0  3 is a Loan Document and allreferences to a\" L...  \n",
       "1  3, each reference in the Credit Agreement or a...  \n",
       "2  3, each reference in the Credit Agreement or a...  \n",
       "3  3, each reference in the Credit Agreement or a...  \n",
       "4  3, each reference in the Credit Agreement or a...  "
      ]
     },
     "execution_count": 14,
     "metadata": {},
     "output_type": "execute_result"
    }
   ],
   "source": [
    "pd.DataFrame([(df.term,df.definition,df.phrase) for df in doc.glossary],columns=[\"Term\",\"Definition\",\"Phrase\"])"
   ]
  },
  {
   "cell_type": "code",
   "execution_count": 15,
   "metadata": {},
   "outputs": [
    {
     "name": "stdout",
     "output_type": "stream",
     "text": [
      "dated as of May 30, 2019 2019-05-30 EFFECTIVE_DATE [{'page': 1, 'left': 1324, 'top': 642, 'width': 60, 'height': 20}, {'page': 5, 'left': 792, 'top': 692, 'width': 22, 'height': 13}, {'page': 4, 'left': 1395, 'top': 117, 'width': 21, 'height': 19}, {'page': 1, 'left': 577, 'top': 1390, 'width': 50, 'height': 25}, {'page': 1, 'left': 1389, 'top': 343, 'width': 33, 'height': 23}, {'page': 1, 'left': 0, 'top': 0, 'width': 1700, 'height': 2200}, {'page': 1, 'left': 677, 'top': 1390, 'width': 60, 'height': 19}]\n",
      "dated as of May 22, 2018 2018-05-22 EFFECTIVE_DATE [{'page': 1, 'left': 1324, 'top': 642, 'width': 60, 'height': 20}, {'page': 5, 'left': 792, 'top': 692, 'width': 22, 'height': 13}, {'page': 4, 'left': 1395, 'top': 117, 'width': 21, 'height': 19}, {'page': 1, 'left': 577, 'top': 1390, 'width': 50, 'height': 25}, {'page': 1, 'left': 1327, 'top': 610, 'width': 33, 'height': 23}, {'page': 1, 'left': 0, 'top': 0, 'width': 1700, 'height': 2200}, {'page': 1, 'left': 212, 'top': 676, 'width': 53, 'height': 19}]\n",
      "dated as of October 10, 2018 2018-10-10 EFFECTIVE_DATE [{'page': 1, 'left': 1324, 'top': 642, 'width': 60, 'height': 20}, {'page': 5, 'left': 792, 'top': 692, 'width': 22, 'height': 13}, {'page': 4, 'left': 1395, 'top': 117, 'width': 21, 'height': 19}, {'page': 1, 'left': 817, 'top': 642, 'width': 89, 'height': 20}, {'page': 1, 'left': 917, 'top': 643, 'width': 29, 'height': 23}, {'page': 1, 'left': 0, 'top': 0, 'width': 1700, 'height': 2200}, {'page': 1, 'left': 212, 'top': 676, 'width': 53, 'height': 19}]\n",
      "dated as of December 20,\n",
      "2018 2018-12-20 EFFECTIVE_DATE [{'page': 1, 'left': 1324, 'top': 642, 'width': 60, 'height': 20}, {'page': 5, 'left': 792, 'top': 692, 'width': 22, 'height': 13}, {'page': 4, 'left': 1395, 'top': 117, 'width': 21, 'height': 19}, {'page': 1, 'left': 1452, 'top': 642, 'width': 114, 'height': 20}, {'page': 1, 'left': 1573, 'top': 643, 'width': 33, 'height': 23}, {'page': 1, 'left': 0, 'top': 0, 'width': 1700, 'height': 2200}, {'page': 1, 'left': 0, 'top': 0, 'width': 1700, 'height': 2200}, {'page': 1, 'left': 212, 'top': 676, 'width': 53, 'height': 19}]\n",
      "effective as of May 28, 2019 2019-05-28 EFFECTIVE_DATE [None, {'page': 1, 'left': 0, 'top': 0, 'width': 1700, 'height': 2200}, {'page': 3, 'left': 369, 'top': 1348, 'width': 50, 'height': 20}, {'page': 4, 'left': 1169, 'top': 117, 'width': 25, 'height': 19}]\n",
      "orcc financing ii llc Orcc Financing Ii Llc legal_entity [{'page': 4, 'left': 794, 'top': 218, 'width': 73, 'height': 19}, {'page': 4, 'left': 876, 'top': 218, 'width': 152, 'height': 19}, {'page': 4, 'left': 1036, 'top': 218, 'width': 17, 'height': 18}, {'page': 4, 'left': 1074, 'top': 1692, 'width': 56, 'height': 22}]\n",
      "natixis, new york branch Natixis, New York Branch legal_entity [{'page': 4, 'left': 792, 'top': 485, 'width': 114, 'height': 23}, {'page': 1, 'left': 0, 'top': 0, 'width': 1700, 'height': 2200}, {'page': 4, 'left': 915, 'top': 485, 'width': 63, 'height': 19}, {'page': 4, 'left': 984, 'top': 485, 'width': 78, 'height': 19}, {'page': 4, 'left': 1070, 'top': 484, 'width': 121, 'height': 24}]\n",
      "state street bank and trust company State Street Bank And Trust Company legal_entity [{'page': 4, 'left': 795, 'top': 852, 'width': 78, 'height': 19}, {'page': 4, 'left': 883, 'top': 852, 'width': 99, 'height': 19}, {'page': 4, 'left': 990, 'top': 852, 'width': 77, 'height': 18}, {'page': 3, 'left': 275, 'top': 1002, 'width': 58, 'height': 19}, {'page': 4, 'left': 1141, 'top': 852, 'width': 87, 'height': 19}, {'page': 5, 'left': 1209, 'top': 151, 'width': 138, 'height': 22}]\n",
      "cortland capital market services llc Cortland Capital Market Services Llc legal_entity [{'page': 4, 'left': 794, 'top': 1085, 'width': 147, 'height': 20}, {'page': 4, 'left': 950, 'top': 1085, 'width': 114, 'height': 20}, {'page': 4, 'left': 1072, 'top': 1086, 'width': 115, 'height': 18}, {'page': 4, 'left': 1196, 'top': 1085, 'width': 126, 'height': 20}, {'page': 4, 'left': 1074, 'top': 1692, 'width': 56, 'height': 22}]\n",
      "versailles assets llc Versailles Assets Llc legal_entity [{'page': 4, 'left': 794, 'top': 1692, 'width': 164, 'height': 19}, {'page': 4, 'left': 965, 'top': 1692, 'width': 99, 'height': 19}, {'page': 4, 'left': 1074, 'top': 1692, 'width': 56, 'height': 22}]\n",
      "great american insurance company Great American Insurance Company legal_entity [{'page': 5, 'left': 792, 'top': 418, 'width': 89, 'height': 20}, {'page': 5, 'left': 887, 'top': 418, 'width': 147, 'height': 20}, {'page': 5, 'left': 1109, 'top': 418, 'width': 157, 'height': 20}, {'page': 5, 'left': 1209, 'top': 151, 'width': 138, 'height': 22}]\n",
      "great american life insurance company Great American Life Insurance Company legal_entity [{'page': 5, 'left': 792, 'top': 418, 'width': 89, 'height': 20}, {'page': 5, 'left': 887, 'top': 418, 'width': 147, 'height': 20}, {'page': 5, 'left': 1044, 'top': 419, 'width': 56, 'height': 18}, {'page': 5, 'left': 1109, 'top': 418, 'width': 157, 'height': 20}, {'page': 5, 'left': 1209, 'top': 151, 'width': 138, 'height': 22}]\n",
      "societe generale Societe Generale legal_entity [{'page': 5, 'left': 793, 'top': 647, 'width': 112, 'height': 25}, {'page': 5, 'left': 914, 'top': 647, 'width': 152, 'height': 29}]\n"
     ]
    }
   ],
   "source": [
    "for ent in doc.ents:\n",
    "    print(ent.name,ent.normalized,ent.label,ent.bbox_span)"
   ]
  },
  {
   "cell_type": "code",
   "execution_count": 16,
   "metadata": {},
   "outputs": [
    {
     "data": {
      "text/plain": [
       "'English'"
      ]
     },
     "execution_count": 16,
     "metadata": {},
     "output_type": "execute_result"
    }
   ],
   "source": [
    "doc.language"
   ]
  },
  {
   "cell_type": "code",
   "execution_count": 17,
   "metadata": {},
   "outputs": [
    {
     "data": {
      "text/plain": [
       "'AMENDMENT NO. 3 TO'"
      ]
     },
     "execution_count": 17,
     "metadata": {},
     "output_type": "execute_result"
    }
   ],
   "source": [
    "doc.document_type"
   ]
  },
  {
   "cell_type": "code",
   "execution_count": 18,
   "metadata": {},
   "outputs": [
    {
     "name": "stdout",
     "output_type": "stream",
     "text": [
      "orcc financing ii llc [{'page': 4, 'left': 794, 'top': 218, 'width': 73, 'height': 19}, {'page': 4, 'left': 876, 'top': 218, 'width': 152, 'height': 19}, {'page': 4, 'left': 1036, 'top': 218, 'width': 17, 'height': 18}, {'page': 4, 'left': 1074, 'top': 1692, 'width': 56, 'height': 22}]\n",
      "natixis, new york branch [{'page': 4, 'left': 792, 'top': 485, 'width': 114, 'height': 23}, {'page': 1, 'left': 0, 'top': 0, 'width': 1700, 'height': 2200}, {'page': 4, 'left': 915, 'top': 485, 'width': 63, 'height': 19}, {'page': 4, 'left': 984, 'top': 485, 'width': 78, 'height': 19}, {'page': 4, 'left': 1070, 'top': 484, 'width': 121, 'height': 24}]\n",
      "state street bank and trust company [{'page': 4, 'left': 795, 'top': 852, 'width': 78, 'height': 19}, {'page': 4, 'left': 883, 'top': 852, 'width': 99, 'height': 19}, {'page': 4, 'left': 990, 'top': 852, 'width': 77, 'height': 18}, {'page': 3, 'left': 275, 'top': 1002, 'width': 58, 'height': 19}, {'page': 4, 'left': 1141, 'top': 852, 'width': 87, 'height': 19}, {'page': 5, 'left': 1209, 'top': 151, 'width': 138, 'height': 22}]\n",
      "cortland capital market services llc [{'page': 4, 'left': 794, 'top': 1085, 'width': 147, 'height': 20}, {'page': 4, 'left': 950, 'top': 1085, 'width': 114, 'height': 20}, {'page': 4, 'left': 1072, 'top': 1086, 'width': 115, 'height': 18}, {'page': 4, 'left': 1196, 'top': 1085, 'width': 126, 'height': 20}, {'page': 4, 'left': 1074, 'top': 1692, 'width': 56, 'height': 22}]\n",
      "versailles assets llc [{'page': 4, 'left': 794, 'top': 1692, 'width': 164, 'height': 19}, {'page': 4, 'left': 965, 'top': 1692, 'width': 99, 'height': 19}, {'page': 4, 'left': 1074, 'top': 1692, 'width': 56, 'height': 22}]\n",
      "great american insurance company [{'page': 5, 'left': 792, 'top': 418, 'width': 89, 'height': 20}, {'page': 5, 'left': 887, 'top': 418, 'width': 147, 'height': 20}, {'page': 5, 'left': 1109, 'top': 418, 'width': 157, 'height': 20}, {'page': 5, 'left': 1209, 'top': 151, 'width': 138, 'height': 22}]\n",
      "great american life insurance company [{'page': 5, 'left': 792, 'top': 418, 'width': 89, 'height': 20}, {'page': 5, 'left': 887, 'top': 418, 'width': 147, 'height': 20}, {'page': 5, 'left': 1044, 'top': 419, 'width': 56, 'height': 18}, {'page': 5, 'left': 1109, 'top': 418, 'width': 157, 'height': 20}, {'page': 5, 'left': 1209, 'top': 151, 'width': 138, 'height': 22}]\n",
      "societe generale [{'page': 5, 'left': 793, 'top': 647, 'width': 112, 'height': 25}, {'page': 5, 'left': 914, 'top': 647, 'width': 152, 'height': 29}]\n"
     ]
    }
   ],
   "source": [
    "for ent in doc.ents:\n",
    "    if ent.label == \"legal_entity\":\n",
    "        print(ent.name,ent.bbox_span)"
   ]
  },
  {
   "cell_type": "code",
   "execution_count": 19,
   "metadata": {},
   "outputs": [],
   "source": [
    "doc.aligned_tokens"
   ]
  },
  {
   "cell_type": "code",
   "execution_count": 20,
   "metadata": {},
   "outputs": [
    {
     "name": "stdout",
     "output_type": "stream",
     "text": [
      "EX-10.44 3 owl-ex1044_91.htm EX-10.44\n",
      "Exhibit 10.44\n",
      "AMENDMENT NO. 3 TO\n",
      "CREDIT AGREEMENT\n",
      "This AMENDMENT NO. 3 TO CREDIT AGREEMENT (this \"Amendment No. 3'), dated as of May 30, 2019, is enteredinto by and among ORCC Financing II LLC, a Delaware limited liability company (the \"Borrower\"), NATIXIS, NEW YORK\n",
      "BRANCH, as administrative agent (in such capacity, the \"Administrative Agent'), STATE STREET BANK AND TRUST\n",
      "COMPANY, as collateral agent, collateral administrator and custodian (in such capacities, respectively, the \"Collateral Agent,\"\n",
      "\"Collateral Administrator\" and \"Custodian\"), CORTLAND CAPITAL MARKET SERVICES LLC, as document custodian (the\n",
      "\"Document Custodian\"), and the lenders identified on the signature pages hereto (the \"Lenders'').\n",
      "A. The Borrower, the Administrative Agent, the Collateral Agent, the Collateral Administrator, the Custodian, the\n",
      "Document Custodian and the Lenders are parties to that certain Credit Agreement, dated as of May 22, 2018 (as amended bythe Amendments to the Credit Agreement, dated as of October 10, 2018 (\"Amendment No. 1'') and dated as of December 20,\n",
      "2018 (\"Amendment No. 2\"), the \"Existing Credit Agreement' and, as amended or modified and in effect from time to time,the \"Credit Agreement'); and\n",
      "B. The Borrower has requested that the Administrative Agent and the Lenders agree to certain modifications to the\n",
      "Existing Credit Agreement.\n",
      "NOW, THEREFORE, in consideration of the mutual promises herein contained and for other valuable consideration, thereceipt and sufficiency of which is hereby acknowledged, the parties hereto, intending to be legally bound, hereby agree as follows:\n",
      "Section 1. Definitions; Rules of Interpretation. All capitalized terms not otherwise defined herein are used as defined inthe Credit Agreement. The rules of interpretation set forth in Article I of the Credit Agreement shall apply as if fully set forth herein,mutatis mutandis.\n",
      "Section 2. Amendments to the Credit Agreement. As of the Effective Date (as defined below), the Credit Agreementshall be amended to delete the red stricken text (indicated in the following manner: rec.--striekertext) and the green, stricken text\n",
      "(indicated in the following manner: green-stticken+text) and to add the blue, underlined text (indicated as follows: blue, underlined textor blue, double-underlined text) and the green, underlined text (indicated as follows: green, underlined text or green, double-underlinedtext), in each case as set forth in Exhibit A hereto.\n",
      "Section 3. Conditions Precedent. This Amendment No. 3 shall become effective on the first date on which each of thefollowing conditions precedent have been satisfied (such date, the \"Effective Date'); provided that the modification to the definition of\n",
      "\"Commitment Fee\" shall be effective as of May 28, 2019:\n",
      "3.1. The Agents shall have received counterparts of this Amendment No. 3, duly executed and delivered byall of the parties hereto.\n",
      "3.2. The Agents shall have received a certificate of an Authorized Officer of the Borrower:\n",
      "3.2.1 to the effect that, as of the date of this Amendment No. 3, (A) subject to anyconditions that are required to be satisfactory or acceptable to any Agent, all conditions set forth in this Section 3 have been fulfilled;\n",
      "(B) all representations and warranties of the Borrower set forth in this Amendment No. 3, the Credit Agreement and each of the other\n",
      "Loan Documents are true and correct in all material respects; and (C) no Default has occurred and is continuing;\n",
      "3.2.2 certifying as to and attaching (A) its Constituent Documents; (B) the incumbencyand specimen signature of each of its Authorized Officers authorized to execute this Amendment No. 3; and (C) a goodstanding certificate from its state or jurisdiction of incorporation or organization and any other state or jurisdiction in which it isqualified to do business in which the failure to be so qualified would reasonably be expected to have a Material Adverse Effect; and\n",
      "3.2.3 certifying that the Borrower does not have outstanding debt prior to the date ofthis Amendment No. 3 other than under the Loan Documents, and is not at such time party to any interest rate hedging agreements orcurrency hedging agreements.\n",
      "Notwithstanding the foregoing, the obligation of any Lenders to make a Loan shall be subject to the requirements of the\n",
      "Loan Documents, including, without limitation, Article II and Article III of the Credit Agreement.\n",
      "Section 4. Miscellaneous.\n",
      "4.1. Amendment No.3 is a \"Loan Document\". This Amendment No. 3 is a Loan Document and allreferences to a \"Loan Document\" in the Credit Agreement and the other Loan Documents (including all such references in therepresentations and warranties in the Credit Agreement and the other Loan Documents) shall be deemed to include this Amendment\n",
      "No. 3.\n",
      "4.2. References to the Credit Agreement and other Loan Documents. Upon the effectiveness of this\n",
      "Amendment No. 3, each reference in the Credit Agreement or any other Loan Document to \"this Agreement\", \"hereunder\", \"hereof\",\n",
      "\"herein\", or words of like import shall mean and be a reference to the Credit Agreement or such Loan Document as amended hereby,and each reference to the Credit Agreement or such Loan Document in any other document, instrument or agreement executed and/ordelivered in connection with the Credit Agreement or such Loan Document shall mean and be a reference to the Credit Agreement orsuch Loan Document as amended hereby.\n",
      "43. Representations and Warranties. The Borrower hereby represents and warrants that (i) this\n",
      "Amendment No. 3 is the legal, valid and binding obligation of the Borrower, enforceable against the Borrower in accordance with itsterms, and (ii) no Event of Default or Default exists.\n",
      "4.4. Covenants, Representations and Warranties. The Borrower, by executing this Amendment No. 3,hereby reaffirms, in all material respects, the representations and warranties made by it in the Credit Agreement and in the other Loan\n",
      "Documents (except that any representation or warranty which by its terms is made as of an earlier date shall be true and correct in allmaterial respects as of such earlier date, and except to the extent of changes in facts or circumstances that have been disclosed to the\n",
      "Lenders and do not constitute an Event of Default or a Default under the Credit Agreement or any other Loan Document).\n",
      "4.5. Reaffirmation of Obligations. The Borrower (a) acknowledges and consents to all of the terms andconditions of this Amendment No. 3, (b) affirms all of its obligations under the Loan Documents, and (c) agrees that this Amendment\n",
      "No. 3 and, except as expressly provided hereby, all documents executed in connection herewith do not operate to reduce or dischargethe Borrower's obligations under the Loan Documents.\n",
      "4.6. Security Interests. The Borrower (a) affirms that each of the Liens granted in or pursuant to the Loan\n",
      "Documents are valid and subsisting and (b) agrees that this Amendment No. 3 and all documents executed in connection herewith shallin no manner impair or otherwise adversely affect any of the Liens granted in or pursuant to the Loan Documents.\n",
      "47. No Other Changes. Except as specifically amended by this Amendment No. 3, the Credit Agreement,the other Loan Documents and all other documents, instruments and agreements executed and/or delivered in connection therewithshall remain in full force and effect and are hereby ratified and confirmed.\n",
      "4.8. No Waiver. The execution, delivery and effectiveness of this Amendment No. 3 shall not operate as awaiver of any right, power or remedy of any Agent or any Lender under the Credit Agreement, the other Loan\n",
      "2\n",
      "Documents or any other document, instrument or agreement executed in connection therewith, nor constitute a waiver of any provisioncontained therein, except as specifically set forth herein.\n",
      "4.9. Governing Law.\n",
      "4.9.1 THIS AMENDMENT NO. 3 AND THE OTHER LOAN DOCUMENTS AND\n",
      "THE RIGHTS AND OBLIGATIONS OF THE PARTIES HEREUNDER AND THEREUNDER SHALL BE CONSTRUED IN\n",
      "ACCORDANCE WITH AND BE GOVERNED BY THE LAW OF THE STATE OF NEW YORK.\n",
      "4.9.2 Any legal action or proceeding with respect to this Amendment No. 3 or anyother Loan Document and any action for enforcement of any judgment in respect thereof may be brought in the courts of the State of\n",
      "New York sitting in the Borough of Manhattan or of the United States of America for the Southern District of New York, and, byexecution and delivery of this Amendment No. 3, each party hereto hereby accepts for itself and in respect of its property, generally andunconditionally, the non-exclusive jurisdiction of the aforesaid courts and appellate courts from any thereof. Each party heretoirrevocably consents to the service of process out of any of the aforementioned courts in any such action or proceeding by the handdelivery, or mailing of copies thereof by registered or certified mail, postage prepaid, to each party hereto at its respective address onthe signature pages hereto. Each party hereto hereby irrevocably waives, to the extent permitted by applicable law, any objection whichit may now or hereafter have to the laying of venue of any of the aforesaid actions or proceedings arising out of or in connection withthis Amendment No. 3 or any other Loan Document brought in the courts referred to above and hereby further irrevocably waives, tothe extent permitted by applicable law, and agrees not to plead or claim in any such court that any such action or proceeding brought inany such court has been brought in an inconvenient forum. Nothing herein shall affect the right of either Agent, any Lender, any holderof a Note to serve process in any other manner permitted by law or to commence legal proceedings or otherwise proceed against the\n",
      "Borrower in any other jurisdiction.\n",
      "4.10. Waiver of Jury Trial. TO THE EXTENT PERMITTED BY APPLICABLE LAW, EACH OF THE\n",
      "BORROWER, THE ADMINISTRATIVE AGENT, THE COLLATERAL AGENT AND THE LENDERS HEREBY IRREVOCABLY\n",
      "WAIVES ANY AND ALL RIGHT TO TRIAL BY JURY IN ANY LEGAL PROCEEDING ARISING OUT OF OR RELATING TO\n",
      "THIS AMENDMENT NO. 3 OR THE TRANSACTIONS CONTEMPLATED HEREBY.\n",
      "4.11. Successors and Assigns. This Amendment No. 3 shall be binding upon and shall inure to the benefitof the parties hereto and their respective permitted successors and assigns as provided in the Credit Agreement.\n",
      "4.12. Headings. Section headings are for convenience of reference only and shall in no way affect theinterpretation of this Amendment No. 3.\n",
      "4.13. Multiple Counterparts. This Amendment No. 3 may be executed in any number of counterparts, allof which taken together shall constitute one and the same agreement, and any of the parties hereto may execute this Amendment No. 3by signing any such counterpart. Delivery of an executed counterpart of a signature page of this Amendment No. 3 by telecopy or inelectronic (i.e., \"'pdf') format shall be effective as delivery of a manually executed counterpart of this Amendment No. 3.\n",
      "REMAINDER OF PAGE INTENTIONALLY LEFT BLANK\n",
      "SIGNATURE PAGES FOLLOW.\n",
      "IN WITNESS WHEREOPF, the parties hereto have caused this Amendment No. 3 to be duly executed as of the day and yearfirst above written.\n",
      "ORCC FINANCING II LLC,as Borrower\n",
      "By:\n",
      "Name:\n",
      "Title:\n",
      "Agents:\n",
      "NATIXIS, NEW YORK BRANCH,as Administrative Agent\n",
      "By:\n",
      "Name:\n",
      "Title:\n",
      "By:\n",
      "Name:\n",
      "Title:\n",
      "STATE STREET BANK AND TRUST COMPANY,as Collateral Agent, Collateral Administrator and Custodian\n",
      "By:\n",
      "Name:\n",
      "Title:\n",
      "CORTLAND CAPITAL MARKET SERVICES LLC,as Document Custodian\n",
      "By:\n",
      "Name:\n",
      "Title:\n",
      "Lenders:\n",
      "VERSAILLES ASSETS LLC,as a Revolving Lender and a Term Lender\n",
      "By:\n",
      "Name:\n",
      "Title:\n",
      "GREAT AMERICAN INSURANCE COMPANY,as a Term Lender\n",
      "By:\n",
      "Name:\n",
      "Title:\n",
      "GREAT AMERICAN LIFE INSURANCE COMPANY,as a Term Lender\n",
      "By:\n",
      "Name:\n",
      "Title:\n",
      "SOCIETE GENERALE,as a Revolving Lender\n",
      "By:\n",
      "Name:\n",
      "Title:\n",
      "\n"
     ]
    }
   ],
   "source": [
    "print(doc.text)"
   ]
  },
  {
   "cell_type": "code",
   "execution_count": null,
   "metadata": {},
   "outputs": [],
   "source": []
  }
 ],
 "metadata": {
  "kernelspec": {
   "display_name": "Python 3",
   "language": "python",
   "name": "python3"
  },
  "language_info": {
   "codemirror_mode": {
    "name": "ipython",
    "version": 3
   },
   "file_extension": ".py",
   "mimetype": "text/x-python",
   "name": "python",
   "nbconvert_exporter": "python",
   "pygments_lexer": "ipython3",
   "version": "3.11.1"
  }
 },
 "nbformat": 4,
 "nbformat_minor": 2
}

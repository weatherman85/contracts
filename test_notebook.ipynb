{
 "cells": [
  {
   "cell_type": "code",
   "execution_count": 4,
   "metadata": {},
   "outputs": [],
   "source": [
    "from contract import ContractPipeline\n",
    "from ner.clf_ner import CLF_NER\n",
    "from ner.regex_ner import RegexNER\n",
    "from ner.normalization.date_normalizer import DateNorm\n",
    "from classification.transformer_classifier import TransformersClassifier\n",
    "from classification.sklearn_classifier import SklearnClassifier\n",
    "import pandas as pd"
   ]
  },
  {
   "cell_type": "code",
   "execution_count": 5,
   "metadata": {},
   "outputs": [],
   "source": [
    "contract_pipeline = ContractPipeline()\n",
    "gov_law_ner = CLF_NER(keywords=[\"law\",\"jurisdicition\",\"governing\"],model=\"sguarnaccio/gov_law_clf_ner\")\n",
    "contract_pipeline.add_pipe(name=\"governing_law\",component=gov_law_ner)\n"
   ]
  },
  {
   "cell_type": "code",
   "execution_count": 6,
   "metadata": {},
   "outputs": [],
   "source": [
    "effective_date_rules = [(r\"(?:effective|dated|made) (?:as of|on)*? ((?:\\d{1,2}[-/th|st|nd|rd\\s]*)?(?:Jan|Feb|Mar|Apr|May|Jun|Jul|Aug|Sep|Oct|Nov|Dec|January|February|March|April|May|June|July|August|September|October|November|Decmebter)?[a-z\\s,.]*(?:\\d{1,2}[-/th|st|nd|rd)\\s,]*)+(?:\\d{2,4})+)\",\n",
    "                   \"EFFECTIVE_DATE\"),\n",
    "                   (\n",
    "                   r\"(?:effective|dated|made) (?:as of|on)*? ((?<!\\d)([1-9]|([12][0-9])|(3[01]))(?!\\d))((?<=1)st|(?<=2)nd|(?<=3)rd|(?<=[0456789])th|\\\"|°)?\\s*(January|February|March|April|May|June|July|August|September|October|November|December|Jan|Feb|Mar|Apr|May|Jun|Jul|Aug|Sep|Oct|Nov|Dec|JANUARY|FEBRUARY|MARCH|APRIL|MAY|JUNE|JULY|AUGUST|SEPTEMBER|OCTOBER|NOVEMBER|DECEMBER|JAN|FEB|MAR|APR|MAY|JUN|JUL|AUG|SEP|OCT|NOV|DEC)\\s*(?<!\\d)([12][0-9]{3})(?!\\d)\",\n",
    "                   \"EFFECTIVE_DATE\"),\n",
    "                   (\n",
    "                   r\"(?:effective|dated|made) (?:as of|on)*? ((?<!\\d)([1-9]|([12][0-9])|(3[01]))(?!\\d))((?<=1)st|(?<=2)nd|(?<=3)rd|(?<=[0456789])th|\\\"|°)?\\s*(January|February|March|April|May|June|July|August|September|October|November|December|Jan|Feb|Mar|Apr|May|Jun|Jul|Aug|Sep|Oct|Nov|Dec|JANUARY|FEBRUARY|MARCH|APRIL|MAY|JUNE|JULY|AUGUST|SEPTEMBER|OCTOBER|NOVEMBER|DECEMBER|JAN|FEB|MAR|APR|MAY|JUN|JUL|AUG|SEP|OCT|NOV|DEC)\\s*[,\\.]\\s*(?<!\\d)([12][0-9]{3})(?!\\d)\",\n",
    "                   \"EFFECTIVE_DATE\"),\n",
    "                   (\n",
    "                   r\"(?:effective|dated|made) (?:as of|on)*? ((?<!\\d)([1-9]|([12][0-9])|(3[01]))(?!\\d))((?<=1)st|(?<=2)nd|(?<=3)rd|(?<=[0456789])th|\\\"|°)?\\s*(day)\\s*(of)\\s*(January|February|March|April|May|June|July|August|September|October|November|December|Jan|Feb|Mar|Apr|May|Jun|Jul|Aug|Sep|Oct|Nov|Dec|JANUARY|FEBRUARY|MARCH|APRIL|MAY|JUNE|JULY|AUGUST|SEPTEMBER|OCTOBER|NOVEMBER|DECEMBER|JAN|FEB|MAR|APR|MAY|JUN|JUL|AUG|SEP|OCT|NOV|DEC)\\s*[,\\.]\\s*(?<!\\d)([12][0-9]{3})(?!\\d)\",\n",
    "                   \"EFFECTIVE_DATE\"),\n",
    "                   (\n",
    "                   r\"(?:effective|dated|made) (?:as of|on)*? (January|February|March|April|May|June|July|August|September|October|November|December|Jan|Feb|Mar|Apr|May|Jun|Jul|Aug|Sep|Oct|Nov|Dec|JANUARY|FEBRUARY|MARCH|APRIL|MAY|JUNE|JULY|AUGUST|SEPTEMBER|OCTOBER|NOVEMBER|DECEMBER|JAN|FEB|MAR|APR|MAY|JUN|JUL|AUG|SEP|OCT|NOV|DEC)\\s*((?<!\\d)([1-9]|([12][0-9])|(3[01]))(?!\\d))((?<=1)st|(?<=2)nd|(?<=3)rd|(?<=[0456789])th|\\\"|°)?\\s*[,\\.]\\s*(?<!\\d)([12][0-9]{3})(?!\\d)\",\n",
    "                   \"EFFECTIVE_DATE\"),\n",
    "                   (\n",
    "                   r\"(?:effective|dated|made) (?:as of|on)*?  ((?<!\\d)([1-9]|([12][0-9])|(3[01]))(?!\\d))((?<=1)st|(?<=2)nd|(?<=3)rd|(?<=[0456789])th|\\\"|°)?\\s*of\\s*(January|February|March|April|May|June|July|August|September|October|November|December|Jan|Feb|Mar|Apr|May|Jun|Jul|Aug|Sep|Oct|Nov|Dec|JANUARY|FEBRUARY|MARCH|APRIL|MAY|JUNE|JULY|AUGUST|SEPTEMBER|OCTOBER|NOVEMBER|DECEMBER|JAN|FEB|MAR|APR|MAY|JUN|JUL|AUG|SEP|OCT|NOV|DEC)\\s*[,\\.]\\s*(?<!\\d)([12][0-9]{3})(?!\\d)\",\n",
    "                   \"EFFECTIVE_DATE\"),\n",
    "                   (\n",
    "                   r\"(?:effective|dated|made) (?:as of|on)*?  (January|February|March|April|May|June|July|August|September|October|November|December|Jan|Feb|Mar|Apr|May|Jun|Jul|Aug|Sep|Oct|Nov|Dec|JANUARY|FEBRUARY|MARCH|APRIL|MAY|JUNE|JULY|AUGUST|SEPTEMBER|OCTOBER|NOVEMBER|DECEMBER|JAN|FEB|MAR|APR|MAY|JUN|JUL|AUG|SEP|OCT|NOV|DEC)\\s*[,\\.]\\s*(?<!\\d)([12][0-9]{3})(?!\\d)\",\n",
    "                   \"EFFECTIVE_DATE\")]\n",
    "\n",
    "eff_date_ner = RegexNER(rules=effective_date_rules,normalizer=DateNorm())\n",
    "eff_date_ner.load_raw_rules(effective_date_rules)\n",
    "contract_pipeline.add_pipe(name=\"effective_date\",component=eff_date_ner)"
   ]
  },
  {
   "cell_type": "code",
   "execution_count": 7,
   "metadata": {},
   "outputs": [],
   "source": [
    "# document_type_classifier = TransformersClassifier(\n",
    "#     model=\"sguarnaccio/document_type_identification\",\n",
    "#     attribute=\"document_type\",\n",
    "#     method = \"lines\",\n",
    "#     positive_class=\"LABEL_1\"\n",
    "# )\n",
    "# contract_pipeline.add_pipe(\n",
    "#     name=\"document_type_classifier\",\n",
    "#     component=document_type_classifier,\n",
    "#     params={\"text_range\":(0,15)})"
   ]
  },
  {
   "cell_type": "code",
   "execution_count": 8,
   "metadata": {},
   "outputs": [],
   "source": [
    "document_type_classifier = SklearnClassifier(\n",
    "    model=\"./classification/pretrained/document_type_model.pkl\",\n",
    "    method=\"lines\",\n",
    "    positive_class=1,\n",
    "    attribute=\"document_type\")\n",
    "document_type_classifier.model = document_type_classifier.model[\"Linear SVM\"][\"model\"]\n",
    "contract_pipeline.add_pipe(name=\"document_type_classifier\",component=document_type_classifier,params={\"text_range\":(0,15)})"
   ]
  },
  {
   "cell_type": "code",
   "execution_count": 9,
   "metadata": {},
   "outputs": [
    {
     "data": {
      "text/plain": [
       "[{'component': <utils.clean_text.TextCleaner at 0x1919efe9390>,\n",
       "  'name': 'clean_text',\n",
       "  'params': {'lower': False,\n",
       "   'remove_num': False,\n",
       "   'add_stop_words': None,\n",
       "   'remove_stop_words': None}},\n",
       " {'component': <tokenization.tokenizer.Tokenizer at 0x1919d770850>,\n",
       "  'name': 'tokenizer'},\n",
       " {'component': <tokenization.sentence.SentenceTokenizer at 0x1919efea350>,\n",
       "  'name': 'sentence_tokenizer'},\n",
       " {'component': <tokenization.segments.SectionSegmenter at 0x1919dd7d650>,\n",
       "  'name': 'section_segmenter'},\n",
       " {'component': <definitions.definitions.DefinitionFinder at 0x1919efe99d0>,\n",
       "  'name': 'definition_finder'},\n",
       " {'component': <ner.clf_ner.CLF_NER at 0x1919d859390>,\n",
       "  'name': 'governing_law'},\n",
       " {'component': <ner.regex_ner.RegexNER at 0x1919de25dd0>,\n",
       "  'name': 'effective_date'},\n",
       " {'component': <classification.sklearn_classifier.SklearnClassifier at 0x1919de24710>,\n",
       "  'name': 'document_type_classifier',\n",
       "  'params': {'text_range': (0, 15)}}]"
      ]
     },
     "execution_count": 9,
     "metadata": {},
     "output_type": "execute_result"
    }
   ],
   "source": [
    "contract_pipeline.pipeline"
   ]
  },
  {
   "cell_type": "code",
   "execution_count": 16,
   "metadata": {},
   "outputs": [],
   "source": [
    "with open(\"./tests/test7.txt\",encoding=\"utf-8\") as f:\n",
    "    text = f.read() \n"
   ]
  },
  {
   "cell_type": "code",
   "execution_count": 17,
   "metadata": {},
   "outputs": [],
   "source": [
    "doc = contract_pipeline(text)"
   ]
  },
  {
   "cell_type": "code",
   "execution_count": 18,
   "metadata": {},
   "outputs": [],
   "source": [
    "pd.DataFrame(\n",
    "    [(segment.section,segment.subsection,segment.title,segment.text) \n",
    "        for segment in doc.segments]\n",
    "    ,columns=[\"Section\",\"Subsection\",\"Title\",\"Text\"]).dropna(how=\"all\")\\\n",
    ".to_excel('./tests/test.xlsx')"
   ]
  },
  {
   "cell_type": "code",
   "execution_count": 19,
   "metadata": {},
   "outputs": [
    {
     "data": {
      "text/html": [
       "<div>\n",
       "<style scoped>\n",
       "    .dataframe tbody tr th:only-of-type {\n",
       "        vertical-align: middle;\n",
       "    }\n",
       "\n",
       "    .dataframe tbody tr th {\n",
       "        vertical-align: top;\n",
       "    }\n",
       "\n",
       "    .dataframe thead th {\n",
       "        text-align: right;\n",
       "    }\n",
       "</style>\n",
       "<table border=\"1\" class=\"dataframe\">\n",
       "  <thead>\n",
       "    <tr style=\"text-align: right;\">\n",
       "      <th></th>\n",
       "      <th>Term</th>\n",
       "      <th>Definition</th>\n",
       "      <th>Phrase</th>\n",
       "    </tr>\n",
       "  </thead>\n",
       "  <tbody>\n",
       "    <tr>\n",
       "      <th>0</th>\n",
       "      <td>Agreement</td>\n",
       "      <td>this Agreement, as amended from time to time.</td>\n",
       "      <td>\" Agreement\" shall mean this Agreement, as ame...</td>\n",
       "    </tr>\n",
       "    <tr>\n",
       "      <th>1</th>\n",
       "      <td>Cause</td>\n",
       "      <td>set forth in Section 14.\" Collateral Manager I...</td>\n",
       "      <td>\" Cause\" shall have the meaning set forth in S...</td>\n",
       "    </tr>\n",
       "    <tr>\n",
       "      <th>2</th>\n",
       "      <td>Collateral Manager Information</td>\n",
       "      <td>ascribed to such term in the Offering Circular.</td>\n",
       "      <td>\" Cause\" shall have the meaning set forth in S...</td>\n",
       "    </tr>\n",
       "    <tr>\n",
       "      <th>3</th>\n",
       "      <td>Collateral Manager Securities</td>\n",
       "      <td>any Securities owned by the Collateral Manager...</td>\n",
       "      <td>\" Collateral Manager Securities\" shall mean an...</td>\n",
       "    </tr>\n",
       "    <tr>\n",
       "      <th>4</th>\n",
       "      <td>Governing Instruments</td>\n",
       "      <td>the memorandum of association, articles of ass...</td>\n",
       "      <td>\" Governing Instruments\" shall mean the memora...</td>\n",
       "    </tr>\n",
       "    <tr>\n",
       "      <th>5</th>\n",
       "      <td>Notice of Removal</td>\n",
       "      <td>set forth in Section 14.\" Offering Circular\" s...</td>\n",
       "      <td>\" Notice of Removal\" shall have the meaning se...</td>\n",
       "    </tr>\n",
       "    <tr>\n",
       "      <th>6</th>\n",
       "      <td>Offering Circular</td>\n",
       "      <td>the final Offering Circular with respect to th...</td>\n",
       "      <td>\" Notice of Removal\" shall have the meaning se...</td>\n",
       "    </tr>\n",
       "    <tr>\n",
       "      <th>7</th>\n",
       "      <td>Related Person</td>\n",
       "      <td>with respect to any Person, the owners of the ...</td>\n",
       "      <td>\" Related Person\" shall mean with respect to a...</td>\n",
       "    </tr>\n",
       "    <tr>\n",
       "      <th>8</th>\n",
       "      <td>Responsible Officer</td>\n",
       "      <td>, with respect to any Person, any duly authori...</td>\n",
       "      <td>\" Responsible Officer\" shall mean, with respec...</td>\n",
       "    </tr>\n",
       "    <tr>\n",
       "      <th>9</th>\n",
       "      <td>Termination Notice</td>\n",
       "      <td>set forth in Section 14. 2.General Duties and ...</td>\n",
       "      <td>\" Termination Notice\" shall have the meaning s...</td>\n",
       "    </tr>\n",
       "  </tbody>\n",
       "</table>\n",
       "</div>"
      ],
      "text/plain": [
       "                              Term  \\\n",
       "0                        Agreement   \n",
       "1                            Cause   \n",
       "2   Collateral Manager Information   \n",
       "3    Collateral Manager Securities   \n",
       "4            Governing Instruments   \n",
       "5                Notice of Removal   \n",
       "6                Offering Circular   \n",
       "7                   Related Person   \n",
       "8              Responsible Officer   \n",
       "9               Termination Notice   \n",
       "\n",
       "                                          Definition  \\\n",
       "0      this Agreement, as amended from time to time.   \n",
       "1  set forth in Section 14.\" Collateral Manager I...   \n",
       "2    ascribed to such term in the Offering Circular.   \n",
       "3  any Securities owned by the Collateral Manager...   \n",
       "4  the memorandum of association, articles of ass...   \n",
       "5  set forth in Section 14.\" Offering Circular\" s...   \n",
       "6  the final Offering Circular with respect to th...   \n",
       "7  with respect to any Person, the owners of the ...   \n",
       "8  , with respect to any Person, any duly authori...   \n",
       "9  set forth in Section 14. 2.General Duties and ...   \n",
       "\n",
       "                                              Phrase  \n",
       "0  \" Agreement\" shall mean this Agreement, as ame...  \n",
       "1  \" Cause\" shall have the meaning set forth in S...  \n",
       "2  \" Cause\" shall have the meaning set forth in S...  \n",
       "3  \" Collateral Manager Securities\" shall mean an...  \n",
       "4  \" Governing Instruments\" shall mean the memora...  \n",
       "5  \" Notice of Removal\" shall have the meaning se...  \n",
       "6  \" Notice of Removal\" shall have the meaning se...  \n",
       "7  \" Related Person\" shall mean with respect to a...  \n",
       "8  \" Responsible Officer\" shall mean, with respec...  \n",
       "9  \" Termination Notice\" shall have the meaning s...  "
      ]
     },
     "execution_count": 19,
     "metadata": {},
     "output_type": "execute_result"
    }
   ],
   "source": [
    "pd.DataFrame([(df.term,df.definition,df.phrase) for df in doc.glossary],columns=[\"Term\",\"Definition\",\"Phrase\"])"
   ]
  },
  {
   "cell_type": "code",
   "execution_count": 20,
   "metadata": {},
   "outputs": [
    {
     "name": "stdout",
     "output_type": "stream",
     "text": [
      "LAW OF THE STATE OF NEW YORK 86689 None\n",
      "dated as of December 16, 2020 102 2020-12-16\n",
      "dated as of December 16, 2020 1009 2020-12-16\n"
     ]
    }
   ],
   "source": [
    "for ent in doc.ents:\n",
    "    print(ent.name,ent.start,ent.normalized)"
   ]
  },
  {
   "cell_type": "code",
   "execution_count": 21,
   "metadata": {},
   "outputs": [
    {
     "data": {
      "text/plain": [
       "'COLLATERAL MANAGEMENT AGREEMENT'"
      ]
     },
     "execution_count": 21,
     "metadata": {},
     "output_type": "execute_result"
    }
   ],
   "source": [
    "doc.document_type"
   ]
  },
  {
   "cell_type": "code",
   "execution_count": null,
   "metadata": {},
   "outputs": [],
   "source": []
  }
 ],
 "metadata": {
  "kernelspec": {
   "display_name": "Python 3",
   "language": "python",
   "name": "python3"
  },
  "language_info": {
   "codemirror_mode": {
    "name": "ipython",
    "version": 3
   },
   "file_extension": ".py",
   "mimetype": "text/x-python",
   "name": "python",
   "nbconvert_exporter": "python",
   "pygments_lexer": "ipython3",
   "version": "3.11.1"
  }
 },
 "nbformat": 4,
 "nbformat_minor": 2
}

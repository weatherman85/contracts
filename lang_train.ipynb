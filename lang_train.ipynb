{
 "cells": [
  {
   "cell_type": "code",
   "execution_count": 1,
   "metadata": {},
   "outputs": [
    {
     "name": "stderr",
     "output_type": "stream",
     "text": [
      "c:\\Users\\seang\\AppData\\Local\\Programs\\Python\\Python311\\Lib\\site-packages\\tqdm\\auto.py:21: TqdmWarning: IProgress not found. Please update jupyter and ipywidgets. See https://ipywidgets.readthedocs.io/en/stable/user_install.html\n",
      "  from .autonotebook import tqdm as notebook_tqdm\n"
     ]
    }
   ],
   "source": [
    "from datasets import load_dataset"
   ]
  },
  {
   "cell_type": "code",
   "execution_count": 2,
   "metadata": {},
   "outputs": [],
   "source": [
    "dataset = load_dataset(\"papluca/language-identification\")"
   ]
  },
  {
   "cell_type": "code",
   "execution_count": 3,
   "metadata": {},
   "outputs": [],
   "source": [
    "import pandas as pd"
   ]
  },
  {
   "cell_type": "code",
   "execution_count": 4,
   "metadata": {},
   "outputs": [],
   "source": [
    "train = dataset[\"train\"].to_pandas()"
   ]
  },
  {
   "cell_type": "code",
   "execution_count": 5,
   "metadata": {},
   "outputs": [],
   "source": [
    "test = pd.concat([dataset[\"validation\"].to_pandas(),dataset[\"test\"].to_pandas()])"
   ]
  },
  {
   "cell_type": "code",
   "execution_count": 6,
   "metadata": {},
   "outputs": [
    {
     "data": {
      "text/plain": [
       "array(['nl', 'es', 'it', 'ar', 'ru', 'tr', 'fr', 'el', 'pl', 'ja', 'vi',\n",
       "       'th', 'pt', 'en', 'ur', 'zh', 'bg', 'hi', 'sw', 'de'], dtype=object)"
      ]
     },
     "execution_count": 6,
     "metadata": {},
     "output_type": "execute_result"
    }
   ],
   "source": [
    "test.labels.unique()"
   ]
  },
  {
   "cell_type": "code",
   "execution_count": 7,
   "metadata": {},
   "outputs": [],
   "source": [
    "from classification.training import sklearn_trainer"
   ]
  },
  {
   "cell_type": "code",
   "execution_count": 8,
   "metadata": {},
   "outputs": [
    {
     "name": "stderr",
     "output_type": "stream",
     "text": [
      "Training Linear SVM model with base parameters\n"
     ]
    },
    {
     "name": "stdout",
     "output_type": "stream",
     "text": [
      "Fitting 5 folds for each of 24 candidates, totalling 120 fits\n",
      "[CV 1/5] END clf__C=100, clf__gamma=0.001, tfidf__norm=l2, tfidf__sublinear_tf=True, tfidf__use_idf=True, vect__max_df=0.5, vect__max_features=1000, vect__ngram_range=(1, 3), vect__stop_words=None;, score=0.875 total time=  49.7s\n",
      "[CV 2/5] END clf__C=100, clf__gamma=0.001, tfidf__norm=l2, tfidf__sublinear_tf=True, tfidf__use_idf=True, vect__max_df=0.5, vect__max_features=1000, vect__ngram_range=(1, 3), vect__stop_words=None;, score=0.875 total time=  49.0s\n",
      "[CV 3/5] END clf__C=100, clf__gamma=0.001, tfidf__norm=l2, tfidf__sublinear_tf=True, tfidf__use_idf=True, vect__max_df=0.5, vect__max_features=1000, vect__ngram_range=(1, 3), vect__stop_words=None;, score=0.875 total time=  48.4s\n",
      "[CV 4/5] END clf__C=100, clf__gamma=0.001, tfidf__norm=l2, tfidf__sublinear_tf=True, tfidf__use_idf=True, vect__max_df=0.5, vect__max_features=1000, vect__ngram_range=(1, 3), vect__stop_words=None;, score=0.873 total time=  49.2s\n",
      "[CV 5/5] END clf__C=100, clf__gamma=0.001, tfidf__norm=l2, tfidf__sublinear_tf=True, tfidf__use_idf=True, vect__max_df=0.5, vect__max_features=1000, vect__ngram_range=(1, 3), vect__stop_words=None;, score=0.874 total time=  47.8s\n",
      "[CV 1/5] END clf__C=100, clf__gamma=0.001, tfidf__norm=l2, tfidf__sublinear_tf=True, tfidf__use_idf=True, vect__max_df=0.5, vect__max_features=10000, vect__ngram_range=(1, 3), vect__stop_words=None;, score=0.919 total time= 1.8min\n",
      "[CV 2/5] END clf__C=100, clf__gamma=0.001, tfidf__norm=l2, tfidf__sublinear_tf=True, tfidf__use_idf=True, vect__max_df=0.5, vect__max_features=10000, vect__ngram_range=(1, 3), vect__stop_words=None;, score=0.916 total time= 1.8min\n",
      "[CV 3/5] END clf__C=100, clf__gamma=0.001, tfidf__norm=l2, tfidf__sublinear_tf=True, tfidf__use_idf=True, vect__max_df=0.5, vect__max_features=10000, vect__ngram_range=(1, 3), vect__stop_words=None;, score=0.918 total time= 1.8min\n",
      "[CV 4/5] END clf__C=100, clf__gamma=0.001, tfidf__norm=l2, tfidf__sublinear_tf=True, tfidf__use_idf=True, vect__max_df=0.5, vect__max_features=10000, vect__ngram_range=(1, 3), vect__stop_words=None;, score=0.915 total time= 1.8min\n",
      "[CV 5/5] END clf__C=100, clf__gamma=0.001, tfidf__norm=l2, tfidf__sublinear_tf=True, tfidf__use_idf=True, vect__max_df=0.5, vect__max_features=10000, vect__ngram_range=(1, 3), vect__stop_words=None;, score=0.918 total time= 1.8min\n",
      "[CV 1/5] END clf__C=100, clf__gamma=0.001, tfidf__norm=l2, tfidf__sublinear_tf=True, tfidf__use_idf=True, vect__max_df=0.75, vect__max_features=1000, vect__ngram_range=(1, 3), vect__stop_words=None;, score=0.875 total time=  48.2s\n",
      "[CV 2/5] END clf__C=100, clf__gamma=0.001, tfidf__norm=l2, tfidf__sublinear_tf=True, tfidf__use_idf=True, vect__max_df=0.75, vect__max_features=1000, vect__ngram_range=(1, 3), vect__stop_words=None;, score=0.875 total time=  47.9s\n",
      "[CV 3/5] END clf__C=100, clf__gamma=0.001, tfidf__norm=l2, tfidf__sublinear_tf=True, tfidf__use_idf=True, vect__max_df=0.75, vect__max_features=1000, vect__ngram_range=(1, 3), vect__stop_words=None;, score=0.875 total time=  48.1s\n",
      "[CV 4/5] END clf__C=100, clf__gamma=0.001, tfidf__norm=l2, tfidf__sublinear_tf=True, tfidf__use_idf=True, vect__max_df=0.75, vect__max_features=1000, vect__ngram_range=(1, 3), vect__stop_words=None;, score=0.873 total time=  48.6s\n",
      "[CV 5/5] END clf__C=100, clf__gamma=0.001, tfidf__norm=l2, tfidf__sublinear_tf=True, tfidf__use_idf=True, vect__max_df=0.75, vect__max_features=1000, vect__ngram_range=(1, 3), vect__stop_words=None;, score=0.874 total time=  47.7s\n",
      "[CV 1/5] END clf__C=100, clf__gamma=0.001, tfidf__norm=l2, tfidf__sublinear_tf=True, tfidf__use_idf=True, vect__max_df=0.75, vect__max_features=10000, vect__ngram_range=(1, 3), vect__stop_words=None;, score=0.919 total time= 1.8min\n",
      "[CV 2/5] END clf__C=100, clf__gamma=0.001, tfidf__norm=l2, tfidf__sublinear_tf=True, tfidf__use_idf=True, vect__max_df=0.75, vect__max_features=10000, vect__ngram_range=(1, 3), vect__stop_words=None;, score=0.916 total time= 1.8min\n",
      "[CV 3/5] END clf__C=100, clf__gamma=0.001, tfidf__norm=l2, tfidf__sublinear_tf=True, tfidf__use_idf=True, vect__max_df=0.75, vect__max_features=10000, vect__ngram_range=(1, 3), vect__stop_words=None;, score=0.918 total time= 1.8min\n",
      "[CV 4/5] END clf__C=100, clf__gamma=0.001, tfidf__norm=l2, tfidf__sublinear_tf=True, tfidf__use_idf=True, vect__max_df=0.75, vect__max_features=10000, vect__ngram_range=(1, 3), vect__stop_words=None;, score=0.915 total time= 1.8min\n",
      "[CV 5/5] END clf__C=100, clf__gamma=0.001, tfidf__norm=l2, tfidf__sublinear_tf=True, tfidf__use_idf=True, vect__max_df=0.75, vect__max_features=10000, vect__ngram_range=(1, 3), vect__stop_words=None;, score=0.918 total time= 1.8min\n",
      "[CV 1/5] END clf__C=100, clf__gamma=0.001, tfidf__norm=l2, tfidf__sublinear_tf=True, tfidf__use_idf=True, vect__max_df=0.9, vect__max_features=1000, vect__ngram_range=(1, 3), vect__stop_words=None;, score=0.875 total time=  48.0s\n",
      "[CV 2/5] END clf__C=100, clf__gamma=0.001, tfidf__norm=l2, tfidf__sublinear_tf=True, tfidf__use_idf=True, vect__max_df=0.9, vect__max_features=1000, vect__ngram_range=(1, 3), vect__stop_words=None;, score=0.875 total time=  48.1s\n",
      "[CV 3/5] END clf__C=100, clf__gamma=0.001, tfidf__norm=l2, tfidf__sublinear_tf=True, tfidf__use_idf=True, vect__max_df=0.9, vect__max_features=1000, vect__ngram_range=(1, 3), vect__stop_words=None;, score=0.875 total time=  48.4s\n",
      "[CV 4/5] END clf__C=100, clf__gamma=0.001, tfidf__norm=l2, tfidf__sublinear_tf=True, tfidf__use_idf=True, vect__max_df=0.9, vect__max_features=1000, vect__ngram_range=(1, 3), vect__stop_words=None;, score=0.873 total time=  49.2s\n",
      "[CV 5/5] END clf__C=100, clf__gamma=0.001, tfidf__norm=l2, tfidf__sublinear_tf=True, tfidf__use_idf=True, vect__max_df=0.9, vect__max_features=1000, vect__ngram_range=(1, 3), vect__stop_words=None;, score=0.874 total time=  47.1s\n",
      "[CV 1/5] END clf__C=100, clf__gamma=0.001, tfidf__norm=l2, tfidf__sublinear_tf=True, tfidf__use_idf=True, vect__max_df=0.9, vect__max_features=10000, vect__ngram_range=(1, 3), vect__stop_words=None;, score=0.919 total time= 1.8min\n",
      "[CV 2/5] END clf__C=100, clf__gamma=0.001, tfidf__norm=l2, tfidf__sublinear_tf=True, tfidf__use_idf=True, vect__max_df=0.9, vect__max_features=10000, vect__ngram_range=(1, 3), vect__stop_words=None;, score=0.916 total time= 1.8min\n",
      "[CV 3/5] END clf__C=100, clf__gamma=0.001, tfidf__norm=l2, tfidf__sublinear_tf=True, tfidf__use_idf=True, vect__max_df=0.9, vect__max_features=10000, vect__ngram_range=(1, 3), vect__stop_words=None;, score=0.918 total time= 1.8min\n",
      "[CV 4/5] END clf__C=100, clf__gamma=0.001, tfidf__norm=l2, tfidf__sublinear_tf=True, tfidf__use_idf=True, vect__max_df=0.9, vect__max_features=10000, vect__ngram_range=(1, 3), vect__stop_words=None;, score=0.915 total time= 1.8min\n",
      "[CV 5/5] END clf__C=100, clf__gamma=0.001, tfidf__norm=l2, tfidf__sublinear_tf=True, tfidf__use_idf=True, vect__max_df=0.9, vect__max_features=10000, vect__ngram_range=(1, 3), vect__stop_words=None;, score=0.918 total time= 1.8min\n",
      "[CV 1/5] END clf__C=100, clf__gamma=0.001, tfidf__norm=l2, tfidf__sublinear_tf=True, tfidf__use_idf=False, vect__max_df=0.5, vect__max_features=1000, vect__ngram_range=(1, 3), vect__stop_words=None;, score=0.874 total time=  45.1s\n",
      "[CV 2/5] END clf__C=100, clf__gamma=0.001, tfidf__norm=l2, tfidf__sublinear_tf=True, tfidf__use_idf=False, vect__max_df=0.5, vect__max_features=1000, vect__ngram_range=(1, 3), vect__stop_words=None;, score=0.874 total time=  44.9s\n",
      "[CV 3/5] END clf__C=100, clf__gamma=0.001, tfidf__norm=l2, tfidf__sublinear_tf=True, tfidf__use_idf=False, vect__max_df=0.5, vect__max_features=1000, vect__ngram_range=(1, 3), vect__stop_words=None;, score=0.874 total time=  45.4s\n",
      "[CV 4/5] END clf__C=100, clf__gamma=0.001, tfidf__norm=l2, tfidf__sublinear_tf=True, tfidf__use_idf=False, vect__max_df=0.5, vect__max_features=1000, vect__ngram_range=(1, 3), vect__stop_words=None;, score=0.872 total time=  45.0s\n",
      "[CV 5/5] END clf__C=100, clf__gamma=0.001, tfidf__norm=l2, tfidf__sublinear_tf=True, tfidf__use_idf=False, vect__max_df=0.5, vect__max_features=1000, vect__ngram_range=(1, 3), vect__stop_words=None;, score=0.873 total time=  44.3s\n",
      "[CV 1/5] END clf__C=100, clf__gamma=0.001, tfidf__norm=l2, tfidf__sublinear_tf=True, tfidf__use_idf=False, vect__max_df=0.5, vect__max_features=10000, vect__ngram_range=(1, 3), vect__stop_words=None;, score=0.918 total time= 1.5min\n",
      "[CV 2/5] END clf__C=100, clf__gamma=0.001, tfidf__norm=l2, tfidf__sublinear_tf=True, tfidf__use_idf=False, vect__max_df=0.5, vect__max_features=10000, vect__ngram_range=(1, 3), vect__stop_words=None;, score=0.914 total time= 1.5min\n",
      "[CV 3/5] END clf__C=100, clf__gamma=0.001, tfidf__norm=l2, tfidf__sublinear_tf=True, tfidf__use_idf=False, vect__max_df=0.5, vect__max_features=10000, vect__ngram_range=(1, 3), vect__stop_words=None;, score=0.917 total time= 1.5min\n",
      "[CV 4/5] END clf__C=100, clf__gamma=0.001, tfidf__norm=l2, tfidf__sublinear_tf=True, tfidf__use_idf=False, vect__max_df=0.5, vect__max_features=10000, vect__ngram_range=(1, 3), vect__stop_words=None;, score=0.914 total time= 1.5min\n",
      "[CV 5/5] END clf__C=100, clf__gamma=0.001, tfidf__norm=l2, tfidf__sublinear_tf=True, tfidf__use_idf=False, vect__max_df=0.5, vect__max_features=10000, vect__ngram_range=(1, 3), vect__stop_words=None;, score=0.916 total time= 1.5min\n",
      "[CV 1/5] END clf__C=100, clf__gamma=0.001, tfidf__norm=l2, tfidf__sublinear_tf=True, tfidf__use_idf=False, vect__max_df=0.75, vect__max_features=1000, vect__ngram_range=(1, 3), vect__stop_words=None;, score=0.874 total time=  45.3s\n",
      "[CV 2/5] END clf__C=100, clf__gamma=0.001, tfidf__norm=l2, tfidf__sublinear_tf=True, tfidf__use_idf=False, vect__max_df=0.75, vect__max_features=1000, vect__ngram_range=(1, 3), vect__stop_words=None;, score=0.874 total time=  45.1s\n",
      "[CV 3/5] END clf__C=100, clf__gamma=0.001, tfidf__norm=l2, tfidf__sublinear_tf=True, tfidf__use_idf=False, vect__max_df=0.75, vect__max_features=1000, vect__ngram_range=(1, 3), vect__stop_words=None;, score=0.874 total time=  45.8s\n",
      "[CV 4/5] END clf__C=100, clf__gamma=0.001, tfidf__norm=l2, tfidf__sublinear_tf=True, tfidf__use_idf=False, vect__max_df=0.75, vect__max_features=1000, vect__ngram_range=(1, 3), vect__stop_words=None;, score=0.872 total time=  45.3s\n",
      "[CV 5/5] END clf__C=100, clf__gamma=0.001, tfidf__norm=l2, tfidf__sublinear_tf=True, tfidf__use_idf=False, vect__max_df=0.75, vect__max_features=1000, vect__ngram_range=(1, 3), vect__stop_words=None;, score=0.873 total time=  44.8s\n",
      "[CV 1/5] END clf__C=100, clf__gamma=0.001, tfidf__norm=l2, tfidf__sublinear_tf=True, tfidf__use_idf=False, vect__max_df=0.75, vect__max_features=10000, vect__ngram_range=(1, 3), vect__stop_words=None;, score=0.918 total time= 1.5min\n",
      "[CV 2/5] END clf__C=100, clf__gamma=0.001, tfidf__norm=l2, tfidf__sublinear_tf=True, tfidf__use_idf=False, vect__max_df=0.75, vect__max_features=10000, vect__ngram_range=(1, 3), vect__stop_words=None;, score=0.914 total time= 1.5min\n",
      "[CV 3/5] END clf__C=100, clf__gamma=0.001, tfidf__norm=l2, tfidf__sublinear_tf=True, tfidf__use_idf=False, vect__max_df=0.75, vect__max_features=10000, vect__ngram_range=(1, 3), vect__stop_words=None;, score=0.917 total time= 1.5min\n",
      "[CV 4/5] END clf__C=100, clf__gamma=0.001, tfidf__norm=l2, tfidf__sublinear_tf=True, tfidf__use_idf=False, vect__max_df=0.75, vect__max_features=10000, vect__ngram_range=(1, 3), vect__stop_words=None;, score=0.914 total time= 1.5min\n",
      "[CV 5/5] END clf__C=100, clf__gamma=0.001, tfidf__norm=l2, tfidf__sublinear_tf=True, tfidf__use_idf=False, vect__max_df=0.75, vect__max_features=10000, vect__ngram_range=(1, 3), vect__stop_words=None;, score=0.916 total time= 1.5min\n",
      "[CV 1/5] END clf__C=100, clf__gamma=0.001, tfidf__norm=l2, tfidf__sublinear_tf=True, tfidf__use_idf=False, vect__max_df=0.9, vect__max_features=1000, vect__ngram_range=(1, 3), vect__stop_words=None;, score=0.874 total time=  46.3s\n",
      "[CV 2/5] END clf__C=100, clf__gamma=0.001, tfidf__norm=l2, tfidf__sublinear_tf=True, tfidf__use_idf=False, vect__max_df=0.9, vect__max_features=1000, vect__ngram_range=(1, 3), vect__stop_words=None;, score=0.874 total time=  45.2s\n",
      "[CV 3/5] END clf__C=100, clf__gamma=0.001, tfidf__norm=l2, tfidf__sublinear_tf=True, tfidf__use_idf=False, vect__max_df=0.9, vect__max_features=1000, vect__ngram_range=(1, 3), vect__stop_words=None;, score=0.874 total time=  46.5s\n",
      "[CV 4/5] END clf__C=100, clf__gamma=0.001, tfidf__norm=l2, tfidf__sublinear_tf=True, tfidf__use_idf=False, vect__max_df=0.9, vect__max_features=1000, vect__ngram_range=(1, 3), vect__stop_words=None;, score=0.872 total time=  45.2s\n",
      "[CV 5/5] END clf__C=100, clf__gamma=0.001, tfidf__norm=l2, tfidf__sublinear_tf=True, tfidf__use_idf=False, vect__max_df=0.9, vect__max_features=1000, vect__ngram_range=(1, 3), vect__stop_words=None;, score=0.873 total time=  44.7s\n",
      "[CV 1/5] END clf__C=100, clf__gamma=0.001, tfidf__norm=l2, tfidf__sublinear_tf=True, tfidf__use_idf=False, vect__max_df=0.9, vect__max_features=10000, vect__ngram_range=(1, 3), vect__stop_words=None;, score=0.918 total time= 1.5min\n",
      "[CV 2/5] END clf__C=100, clf__gamma=0.001, tfidf__norm=l2, tfidf__sublinear_tf=True, tfidf__use_idf=False, vect__max_df=0.9, vect__max_features=10000, vect__ngram_range=(1, 3), vect__stop_words=None;, score=0.914 total time= 1.5min\n",
      "[CV 3/5] END clf__C=100, clf__gamma=0.001, tfidf__norm=l2, tfidf__sublinear_tf=True, tfidf__use_idf=False, vect__max_df=0.9, vect__max_features=10000, vect__ngram_range=(1, 3), vect__stop_words=None;, score=0.917 total time= 1.5min\n",
      "[CV 4/5] END clf__C=100, clf__gamma=0.001, tfidf__norm=l2, tfidf__sublinear_tf=True, tfidf__use_idf=False, vect__max_df=0.9, vect__max_features=10000, vect__ngram_range=(1, 3), vect__stop_words=None;, score=0.914 total time= 1.5min\n",
      "[CV 5/5] END clf__C=100, clf__gamma=0.001, tfidf__norm=l2, tfidf__sublinear_tf=True, tfidf__use_idf=False, vect__max_df=0.9, vect__max_features=10000, vect__ngram_range=(1, 3), vect__stop_words=None;, score=0.916 total time= 1.5min\n",
      "[CV 1/5] END clf__C=100, clf__gamma=0.001, tfidf__norm=l2, tfidf__sublinear_tf=False, tfidf__use_idf=True, vect__max_df=0.5, vect__max_features=1000, vect__ngram_range=(1, 3), vect__stop_words=None;, score=0.875 total time=  48.3s\n",
      "[CV 2/5] END clf__C=100, clf__gamma=0.001, tfidf__norm=l2, tfidf__sublinear_tf=False, tfidf__use_idf=True, vect__max_df=0.5, vect__max_features=1000, vect__ngram_range=(1, 3), vect__stop_words=None;, score=0.875 total time=  48.6s\n",
      "[CV 3/5] END clf__C=100, clf__gamma=0.001, tfidf__norm=l2, tfidf__sublinear_tf=False, tfidf__use_idf=True, vect__max_df=0.5, vect__max_features=1000, vect__ngram_range=(1, 3), vect__stop_words=None;, score=0.875 total time=  48.1s\n",
      "[CV 4/5] END clf__C=100, clf__gamma=0.001, tfidf__norm=l2, tfidf__sublinear_tf=False, tfidf__use_idf=True, vect__max_df=0.5, vect__max_features=1000, vect__ngram_range=(1, 3), vect__stop_words=None;, score=0.873 total time=  48.1s\n",
      "[CV 5/5] END clf__C=100, clf__gamma=0.001, tfidf__norm=l2, tfidf__sublinear_tf=False, tfidf__use_idf=True, vect__max_df=0.5, vect__max_features=1000, vect__ngram_range=(1, 3), vect__stop_words=None;, score=0.874 total time=  47.8s\n",
      "[CV 1/5] END clf__C=100, clf__gamma=0.001, tfidf__norm=l2, tfidf__sublinear_tf=False, tfidf__use_idf=True, vect__max_df=0.5, vect__max_features=10000, vect__ngram_range=(1, 3), vect__stop_words=None;, score=0.920 total time= 1.8min\n",
      "[CV 2/5] END clf__C=100, clf__gamma=0.001, tfidf__norm=l2, tfidf__sublinear_tf=False, tfidf__use_idf=True, vect__max_df=0.5, vect__max_features=10000, vect__ngram_range=(1, 3), vect__stop_words=None;, score=0.916 total time= 1.8min\n",
      "[CV 3/5] END clf__C=100, clf__gamma=0.001, tfidf__norm=l2, tfidf__sublinear_tf=False, tfidf__use_idf=True, vect__max_df=0.5, vect__max_features=10000, vect__ngram_range=(1, 3), vect__stop_words=None;, score=0.917 total time= 1.8min\n",
      "[CV 4/5] END clf__C=100, clf__gamma=0.001, tfidf__norm=l2, tfidf__sublinear_tf=False, tfidf__use_idf=True, vect__max_df=0.5, vect__max_features=10000, vect__ngram_range=(1, 3), vect__stop_words=None;, score=0.916 total time= 1.8min\n",
      "[CV 5/5] END clf__C=100, clf__gamma=0.001, tfidf__norm=l2, tfidf__sublinear_tf=False, tfidf__use_idf=True, vect__max_df=0.5, vect__max_features=10000, vect__ngram_range=(1, 3), vect__stop_words=None;, score=0.918 total time= 1.8min\n",
      "[CV 1/5] END clf__C=100, clf__gamma=0.001, tfidf__norm=l2, tfidf__sublinear_tf=False, tfidf__use_idf=True, vect__max_df=0.75, vect__max_features=1000, vect__ngram_range=(1, 3), vect__stop_words=None;, score=0.875 total time=  47.4s\n",
      "[CV 2/5] END clf__C=100, clf__gamma=0.001, tfidf__norm=l2, tfidf__sublinear_tf=False, tfidf__use_idf=True, vect__max_df=0.75, vect__max_features=1000, vect__ngram_range=(1, 3), vect__stop_words=None;, score=0.875 total time=  47.9s\n",
      "[CV 3/5] END clf__C=100, clf__gamma=0.001, tfidf__norm=l2, tfidf__sublinear_tf=False, tfidf__use_idf=True, vect__max_df=0.75, vect__max_features=1000, vect__ngram_range=(1, 3), vect__stop_words=None;, score=0.875 total time=  48.1s\n",
      "[CV 4/5] END clf__C=100, clf__gamma=0.001, tfidf__norm=l2, tfidf__sublinear_tf=False, tfidf__use_idf=True, vect__max_df=0.75, vect__max_features=1000, vect__ngram_range=(1, 3), vect__stop_words=None;, score=0.873 total time=  48.9s\n",
      "[CV 5/5] END clf__C=100, clf__gamma=0.001, tfidf__norm=l2, tfidf__sublinear_tf=False, tfidf__use_idf=True, vect__max_df=0.75, vect__max_features=1000, vect__ngram_range=(1, 3), vect__stop_words=None;, score=0.874 total time=  48.2s\n",
      "[CV 1/5] END clf__C=100, clf__gamma=0.001, tfidf__norm=l2, tfidf__sublinear_tf=False, tfidf__use_idf=True, vect__max_df=0.75, vect__max_features=10000, vect__ngram_range=(1, 3), vect__stop_words=None;, score=0.920 total time= 1.8min\n",
      "[CV 2/5] END clf__C=100, clf__gamma=0.001, tfidf__norm=l2, tfidf__sublinear_tf=False, tfidf__use_idf=True, vect__max_df=0.75, vect__max_features=10000, vect__ngram_range=(1, 3), vect__stop_words=None;, score=0.916 total time= 1.8min\n",
      "[CV 3/5] END clf__C=100, clf__gamma=0.001, tfidf__norm=l2, tfidf__sublinear_tf=False, tfidf__use_idf=True, vect__max_df=0.75, vect__max_features=10000, vect__ngram_range=(1, 3), vect__stop_words=None;, score=0.917 total time= 1.8min\n",
      "[CV 4/5] END clf__C=100, clf__gamma=0.001, tfidf__norm=l2, tfidf__sublinear_tf=False, tfidf__use_idf=True, vect__max_df=0.75, vect__max_features=10000, vect__ngram_range=(1, 3), vect__stop_words=None;, score=0.916 total time= 1.8min\n",
      "[CV 5/5] END clf__C=100, clf__gamma=0.001, tfidf__norm=l2, tfidf__sublinear_tf=False, tfidf__use_idf=True, vect__max_df=0.75, vect__max_features=10000, vect__ngram_range=(1, 3), vect__stop_words=None;, score=0.918 total time= 1.8min\n",
      "[CV 1/5] END clf__C=100, clf__gamma=0.001, tfidf__norm=l2, tfidf__sublinear_tf=False, tfidf__use_idf=True, vect__max_df=0.9, vect__max_features=1000, vect__ngram_range=(1, 3), vect__stop_words=None;, score=0.875 total time=  47.8s\n",
      "[CV 2/5] END clf__C=100, clf__gamma=0.001, tfidf__norm=l2, tfidf__sublinear_tf=False, tfidf__use_idf=True, vect__max_df=0.9, vect__max_features=1000, vect__ngram_range=(1, 3), vect__stop_words=None;, score=0.875 total time=  47.9s\n",
      "[CV 3/5] END clf__C=100, clf__gamma=0.001, tfidf__norm=l2, tfidf__sublinear_tf=False, tfidf__use_idf=True, vect__max_df=0.9, vect__max_features=1000, vect__ngram_range=(1, 3), vect__stop_words=None;, score=0.875 total time=  47.9s\n",
      "[CV 4/5] END clf__C=100, clf__gamma=0.001, tfidf__norm=l2, tfidf__sublinear_tf=False, tfidf__use_idf=True, vect__max_df=0.9, vect__max_features=1000, vect__ngram_range=(1, 3), vect__stop_words=None;, score=0.873 total time=  47.9s\n",
      "[CV 5/5] END clf__C=100, clf__gamma=0.001, tfidf__norm=l2, tfidf__sublinear_tf=False, tfidf__use_idf=True, vect__max_df=0.9, vect__max_features=1000, vect__ngram_range=(1, 3), vect__stop_words=None;, score=0.874 total time=  47.5s\n",
      "[CV 1/5] END clf__C=100, clf__gamma=0.001, tfidf__norm=l2, tfidf__sublinear_tf=False, tfidf__use_idf=True, vect__max_df=0.9, vect__max_features=10000, vect__ngram_range=(1, 3), vect__stop_words=None;, score=0.920 total time= 1.8min\n",
      "[CV 2/5] END clf__C=100, clf__gamma=0.001, tfidf__norm=l2, tfidf__sublinear_tf=False, tfidf__use_idf=True, vect__max_df=0.9, vect__max_features=10000, vect__ngram_range=(1, 3), vect__stop_words=None;, score=0.916 total time= 1.8min\n",
      "[CV 3/5] END clf__C=100, clf__gamma=0.001, tfidf__norm=l2, tfidf__sublinear_tf=False, tfidf__use_idf=True, vect__max_df=0.9, vect__max_features=10000, vect__ngram_range=(1, 3), vect__stop_words=None;, score=0.917 total time= 1.8min\n",
      "[CV 4/5] END clf__C=100, clf__gamma=0.001, tfidf__norm=l2, tfidf__sublinear_tf=False, tfidf__use_idf=True, vect__max_df=0.9, vect__max_features=10000, vect__ngram_range=(1, 3), vect__stop_words=None;, score=0.916 total time= 1.8min\n",
      "[CV 5/5] END clf__C=100, clf__gamma=0.001, tfidf__norm=l2, tfidf__sublinear_tf=False, tfidf__use_idf=True, vect__max_df=0.9, vect__max_features=10000, vect__ngram_range=(1, 3), vect__stop_words=None;, score=0.918 total time= 1.8min\n",
      "[CV 1/5] END clf__C=100, clf__gamma=0.001, tfidf__norm=l2, tfidf__sublinear_tf=False, tfidf__use_idf=False, vect__max_df=0.5, vect__max_features=1000, vect__ngram_range=(1, 3), vect__stop_words=None;, score=0.874 total time=  45.2s\n",
      "[CV 2/5] END clf__C=100, clf__gamma=0.001, tfidf__norm=l2, tfidf__sublinear_tf=False, tfidf__use_idf=False, vect__max_df=0.5, vect__max_features=1000, vect__ngram_range=(1, 3), vect__stop_words=None;, score=0.874 total time=  45.8s\n",
      "[CV 3/5] END clf__C=100, clf__gamma=0.001, tfidf__norm=l2, tfidf__sublinear_tf=False, tfidf__use_idf=False, vect__max_df=0.5, vect__max_features=1000, vect__ngram_range=(1, 3), vect__stop_words=None;, score=0.873 total time=  45.3s\n",
      "[CV 4/5] END clf__C=100, clf__gamma=0.001, tfidf__norm=l2, tfidf__sublinear_tf=False, tfidf__use_idf=False, vect__max_df=0.5, vect__max_features=1000, vect__ngram_range=(1, 3), vect__stop_words=None;, score=0.872 total time=  45.4s\n",
      "[CV 5/5] END clf__C=100, clf__gamma=0.001, tfidf__norm=l2, tfidf__sublinear_tf=False, tfidf__use_idf=False, vect__max_df=0.5, vect__max_features=1000, vect__ngram_range=(1, 3), vect__stop_words=None;, score=0.873 total time=  44.7s\n",
      "[CV 1/5] END clf__C=100, clf__gamma=0.001, tfidf__norm=l2, tfidf__sublinear_tf=False, tfidf__use_idf=False, vect__max_df=0.5, vect__max_features=10000, vect__ngram_range=(1, 3), vect__stop_words=None;, score=0.918 total time= 1.5min\n",
      "[CV 2/5] END clf__C=100, clf__gamma=0.001, tfidf__norm=l2, tfidf__sublinear_tf=False, tfidf__use_idf=False, vect__max_df=0.5, vect__max_features=10000, vect__ngram_range=(1, 3), vect__stop_words=None;, score=0.914 total time= 1.5min\n",
      "[CV 3/5] END clf__C=100, clf__gamma=0.001, tfidf__norm=l2, tfidf__sublinear_tf=False, tfidf__use_idf=False, vect__max_df=0.5, vect__max_features=10000, vect__ngram_range=(1, 3), vect__stop_words=None;, score=0.917 total time= 1.5min\n",
      "[CV 4/5] END clf__C=100, clf__gamma=0.001, tfidf__norm=l2, tfidf__sublinear_tf=False, tfidf__use_idf=False, vect__max_df=0.5, vect__max_features=10000, vect__ngram_range=(1, 3), vect__stop_words=None;, score=0.914 total time= 1.5min\n",
      "[CV 5/5] END clf__C=100, clf__gamma=0.001, tfidf__norm=l2, tfidf__sublinear_tf=False, tfidf__use_idf=False, vect__max_df=0.5, vect__max_features=10000, vect__ngram_range=(1, 3), vect__stop_words=None;, score=0.916 total time= 1.5min\n",
      "[CV 1/5] END clf__C=100, clf__gamma=0.001, tfidf__norm=l2, tfidf__sublinear_tf=False, tfidf__use_idf=False, vect__max_df=0.75, vect__max_features=1000, vect__ngram_range=(1, 3), vect__stop_words=None;, score=0.874 total time=  45.0s\n",
      "[CV 2/5] END clf__C=100, clf__gamma=0.001, tfidf__norm=l2, tfidf__sublinear_tf=False, tfidf__use_idf=False, vect__max_df=0.75, vect__max_features=1000, vect__ngram_range=(1, 3), vect__stop_words=None;, score=0.874 total time=  46.1s\n",
      "[CV 3/5] END clf__C=100, clf__gamma=0.001, tfidf__norm=l2, tfidf__sublinear_tf=False, tfidf__use_idf=False, vect__max_df=0.75, vect__max_features=1000, vect__ngram_range=(1, 3), vect__stop_words=None;, score=0.873 total time=  46.1s\n",
      "[CV 4/5] END clf__C=100, clf__gamma=0.001, tfidf__norm=l2, tfidf__sublinear_tf=False, tfidf__use_idf=False, vect__max_df=0.75, vect__max_features=1000, vect__ngram_range=(1, 3), vect__stop_words=None;, score=0.872 total time=  45.2s\n",
      "[CV 5/5] END clf__C=100, clf__gamma=0.001, tfidf__norm=l2, tfidf__sublinear_tf=False, tfidf__use_idf=False, vect__max_df=0.75, vect__max_features=1000, vect__ngram_range=(1, 3), vect__stop_words=None;, score=0.873 total time=  44.7s\n",
      "[CV 1/5] END clf__C=100, clf__gamma=0.001, tfidf__norm=l2, tfidf__sublinear_tf=False, tfidf__use_idf=False, vect__max_df=0.75, vect__max_features=10000, vect__ngram_range=(1, 3), vect__stop_words=None;, score=0.918 total time= 1.5min\n",
      "[CV 2/5] END clf__C=100, clf__gamma=0.001, tfidf__norm=l2, tfidf__sublinear_tf=False, tfidf__use_idf=False, vect__max_df=0.75, vect__max_features=10000, vect__ngram_range=(1, 3), vect__stop_words=None;, score=0.914 total time= 1.5min\n",
      "[CV 3/5] END clf__C=100, clf__gamma=0.001, tfidf__norm=l2, tfidf__sublinear_tf=False, tfidf__use_idf=False, vect__max_df=0.75, vect__max_features=10000, vect__ngram_range=(1, 3), vect__stop_words=None;, score=0.917 total time= 1.5min\n",
      "[CV 4/5] END clf__C=100, clf__gamma=0.001, tfidf__norm=l2, tfidf__sublinear_tf=False, tfidf__use_idf=False, vect__max_df=0.75, vect__max_features=10000, vect__ngram_range=(1, 3), vect__stop_words=None;, score=0.914 total time= 1.5min\n",
      "[CV 5/5] END clf__C=100, clf__gamma=0.001, tfidf__norm=l2, tfidf__sublinear_tf=False, tfidf__use_idf=False, vect__max_df=0.75, vect__max_features=10000, vect__ngram_range=(1, 3), vect__stop_words=None;, score=0.916 total time= 1.5min\n",
      "[CV 1/5] END clf__C=100, clf__gamma=0.001, tfidf__norm=l2, tfidf__sublinear_tf=False, tfidf__use_idf=False, vect__max_df=0.9, vect__max_features=1000, vect__ngram_range=(1, 3), vect__stop_words=None;, score=0.874 total time=  45.3s\n",
      "[CV 2/5] END clf__C=100, clf__gamma=0.001, tfidf__norm=l2, tfidf__sublinear_tf=False, tfidf__use_idf=False, vect__max_df=0.9, vect__max_features=1000, vect__ngram_range=(1, 3), vect__stop_words=None;, score=0.874 total time=  45.7s\n",
      "[CV 3/5] END clf__C=100, clf__gamma=0.001, tfidf__norm=l2, tfidf__sublinear_tf=False, tfidf__use_idf=False, vect__max_df=0.9, vect__max_features=1000, vect__ngram_range=(1, 3), vect__stop_words=None;, score=0.873 total time=  45.4s\n",
      "[CV 4/5] END clf__C=100, clf__gamma=0.001, tfidf__norm=l2, tfidf__sublinear_tf=False, tfidf__use_idf=False, vect__max_df=0.9, vect__max_features=1000, vect__ngram_range=(1, 3), vect__stop_words=None;, score=0.872 total time=  45.4s\n",
      "[CV 5/5] END clf__C=100, clf__gamma=0.001, tfidf__norm=l2, tfidf__sublinear_tf=False, tfidf__use_idf=False, vect__max_df=0.9, vect__max_features=1000, vect__ngram_range=(1, 3), vect__stop_words=None;, score=0.873 total time=  45.0s\n",
      "[CV 1/5] END clf__C=100, clf__gamma=0.001, tfidf__norm=l2, tfidf__sublinear_tf=False, tfidf__use_idf=False, vect__max_df=0.9, vect__max_features=10000, vect__ngram_range=(1, 3), vect__stop_words=None;, score=0.918 total time= 1.5min\n",
      "[CV 2/5] END clf__C=100, clf__gamma=0.001, tfidf__norm=l2, tfidf__sublinear_tf=False, tfidf__use_idf=False, vect__max_df=0.9, vect__max_features=10000, vect__ngram_range=(1, 3), vect__stop_words=None;, score=0.914 total time= 1.5min\n",
      "[CV 3/5] END clf__C=100, clf__gamma=0.001, tfidf__norm=l2, tfidf__sublinear_tf=False, tfidf__use_idf=False, vect__max_df=0.9, vect__max_features=10000, vect__ngram_range=(1, 3), vect__stop_words=None;, score=0.917 total time= 1.5min\n",
      "[CV 4/5] END clf__C=100, clf__gamma=0.001, tfidf__norm=l2, tfidf__sublinear_tf=False, tfidf__use_idf=False, vect__max_df=0.9, vect__max_features=10000, vect__ngram_range=(1, 3), vect__stop_words=None;, score=0.914 total time= 1.5min\n",
      "[CV 5/5] END clf__C=100, clf__gamma=0.001, tfidf__norm=l2, tfidf__sublinear_tf=False, tfidf__use_idf=False, vect__max_df=0.9, vect__max_features=10000, vect__ngram_range=(1, 3), vect__stop_words=None;, score=0.916 total time= 1.5min\n"
     ]
    },
    {
     "name": "stderr",
     "output_type": "stream",
     "text": [
      "Best Test Score = 0.9172142857142858\n",
      "The best parameters found: {'clf__C': 100, 'clf__gamma': 0.001, 'tfidf__norm': 'l2', 'tfidf__sublinear_tf': True, 'tfidf__use_idf': True, 'vect__max_df': 0.5, 'vect__max_features': 10000, 'vect__ngram_range': (1, 3), 'vect__stop_words': None}\n",
      "              precision    recall  f1-score   support\n",
      "\n",
      "          ar       0.99      0.93      0.96      1000\n",
      "          bg       0.98      0.97      0.98      1000\n",
      "          de       1.00      0.99      1.00      1000\n",
      "          el       1.00      0.99      1.00      1000\n",
      "          en       0.99      0.97      0.98      1000\n",
      "          es       0.99      0.98      0.98      1000\n",
      "          fr       1.00      0.99      0.99      1000\n",
      "          hi       1.00      0.95      0.97      1000\n",
      "          it       0.99      0.98      0.98      1000\n",
      "          ja       0.75      0.09      0.15      1000\n",
      "          nl       0.98      0.97      0.98      1000\n",
      "          pl       0.93      0.89      0.91      1000\n",
      "          pt       0.97      0.97      0.97      1000\n",
      "          ru       0.98      0.93      0.95      1000\n",
      "          sw       0.98      0.97      0.97      1000\n",
      "          th       1.00      0.77      0.87      1000\n",
      "          tr       0.98      0.95      0.96      1000\n",
      "          ur       1.00      0.96      0.98      1000\n",
      "          vi       1.00      1.00      1.00      1000\n",
      "          zh       0.40      0.99      0.57      1000\n",
      "\n",
      "    accuracy                           0.91     20000\n",
      "   macro avg       0.95      0.91      0.91     20000\n",
      "weighted avg       0.95      0.91      0.91     20000\n",
      "\n",
      "Linear SVM classifier model created with accuracy of 0.91275.\n"
     ]
    }
   ],
   "source": [
    "model = sklearn_trainer.train_model(train,\"text\",\"labels\",\"count\",test,classifier=\"Linear SVM\",tune=True)"
   ]
  },
  {
   "cell_type": "code",
   "execution_count": 9,
   "metadata": {},
   "outputs": [
    {
     "ename": "ImportError",
     "evalue": "cannot import name 'save_model' from 'classification.training' (unknown location)",
     "output_type": "error",
     "traceback": [
      "\u001b[1;31m---------------------------------------------------------------------------\u001b[0m",
      "\u001b[1;31mImportError\u001b[0m                               Traceback (most recent call last)",
      "\u001b[1;32mUntitled-1.ipynb Cell 9\u001b[0m line \u001b[0;36m1\n\u001b[1;32m----> <a href='vscode-notebook-cell:Untitled-1.ipynb?jupyter-notebook#X14sdW50aXRsZWQ%3D?line=0'>1</a>\u001b[0m \u001b[39mfrom\u001b[39;00m \u001b[39mclassification\u001b[39;00m\u001b[39m.\u001b[39;00m\u001b[39mtraining\u001b[39;00m \u001b[39mimport\u001b[39;00m save_model\n",
      "\u001b[1;31mImportError\u001b[0m: cannot import name 'save_model' from 'classification.training' (unknown location)"
     ]
    }
   ],
   "source": [
    "from classification.training import save_model"
   ]
  },
  {
   "cell_type": "code",
   "execution_count": 11,
   "metadata": {},
   "outputs": [],
   "source": [
    "sklearn_trainer.save_model(\"document_language\",model,train,\"./classification/pretrained/\")"
   ]
  },
  {
   "cell_type": "code",
   "execution_count": null,
   "metadata": {},
   "outputs": [],
   "source": []
  }
 ],
 "metadata": {
  "kernelspec": {
   "display_name": "Python 3",
   "language": "python",
   "name": "python3"
  },
  "language_info": {
   "codemirror_mode": {
    "name": "ipython",
    "version": 3
   },
   "file_extension": ".py",
   "mimetype": "text/x-python",
   "name": "python",
   "nbconvert_exporter": "python",
   "pygments_lexer": "ipython3",
   "version": "3.11.1"
  }
 },
 "nbformat": 4,
 "nbformat_minor": 2
}

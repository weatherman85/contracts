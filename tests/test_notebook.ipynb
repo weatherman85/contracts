{
 "cells": [
  {
   "cell_type": "code",
   "execution_count": 1,
   "metadata": {},
   "outputs": [],
   "source": [
    "from contract import *"
   ]
  },
  {
   "cell_type": "code",
   "execution_count": 26,
   "metadata": {},
   "outputs": [],
   "source": [
    "with open(\"./tests/test12.txt\",encoding=\"utf-8\") as f:\n",
    "    text = f.read() \n"
   ]
  },
  {
   "cell_type": "code",
   "execution_count": 27,
   "metadata": {},
   "outputs": [],
   "source": [
    "doc = Contract(text)"
   ]
  },
  {
   "cell_type": "code",
   "execution_count": 28,
   "metadata": {},
   "outputs": [],
   "source": [
    "pd.DataFrame([(segment.section,segment.subsection,segment.title,segment.text) for segment in doc.segments],columns=[\"Section\",\"Subsection\",\"Title\",\"Text\"]).to_excel('./tests/test.xlsx')"
   ]
  },
  {
   "cell_type": "code",
   "execution_count": 29,
   "metadata": {},
   "outputs": [
    {
     "data": {
      "text/html": [
       "<div>\n",
       "<style scoped>\n",
       "    .dataframe tbody tr th:only-of-type {\n",
       "        vertical-align: middle;\n",
       "    }\n",
       "\n",
       "    .dataframe tbody tr th {\n",
       "        vertical-align: top;\n",
       "    }\n",
       "\n",
       "    .dataframe thead th {\n",
       "        text-align: right;\n",
       "    }\n",
       "</style>\n",
       "<table border=\"1\" class=\"dataframe\">\n",
       "  <thead>\n",
       "    <tr style=\"text-align: right;\">\n",
       "      <th></th>\n",
       "      <th>Term</th>\n",
       "      <th>Definition</th>\n",
       "      <th>Phrase</th>\n",
       "    </tr>\n",
       "  </thead>\n",
       "  <tbody>\n",
       "    <tr>\n",
       "      <th>0</th>\n",
       "      <td>Borrower</td>\n",
       "      <td>of Section 2.9, the entities identified as Sub...</td>\n",
       "      <td>, a Maryland corporation( the\" Borrower\"), ING...</td>\n",
       "    </tr>\n",
       "    <tr>\n",
       "      <th>1</th>\n",
       "      <td>Administrative Agent</td>\n",
       "      <td>of Section 2.9, the entities identified as Sub...</td>\n",
       "      <td>, a Maryland corporation( the\" Borrower\"), ING...</td>\n",
       "    </tr>\n",
       "    <tr>\n",
       "      <th>2</th>\n",
       "      <td>this Agreement</td>\n",
       "      <td>and be a reference to the Credit Agreement as ...</td>\n",
       "      <td>Upon the effectiveness of this Amendment, each...</td>\n",
       "    </tr>\n",
       "    <tr>\n",
       "      <th>3</th>\n",
       "      <td>hereunder</td>\n",
       "      <td>and be a reference to the Credit Agreement as ...</td>\n",
       "      <td>Upon the effectiveness of this Amendment, each...</td>\n",
       "    </tr>\n",
       "    <tr>\n",
       "      <th>4</th>\n",
       "      <td>hereof</td>\n",
       "      <td>and be a reference to the Credit Agreement as ...</td>\n",
       "      <td>Upon the effectiveness of this Amendment, each...</td>\n",
       "    </tr>\n",
       "    <tr>\n",
       "      <th>...</th>\n",
       "      <td>...</td>\n",
       "      <td>...</td>\n",
       "      <td>...</td>\n",
       "    </tr>\n",
       "    <tr>\n",
       "      <th>371</th>\n",
       "      <td>Covered Entity</td>\n",
       "      <td>any of the following:( A) a\" covered entity\" a...</td>\n",
       "      <td>( ii)\" Covered Entity\" means any of the follow...</td>\n",
       "    </tr>\n",
       "    <tr>\n",
       "      <th>372</th>\n",
       "      <td>covered bank</td>\n",
       "      <td>in, and interpreted in accordance with, 12 C.F...</td>\n",
       "      <td>( ii)\" Covered Entity\" means any of the follow...</td>\n",
       "    </tr>\n",
       "    <tr>\n",
       "      <th>373</th>\n",
       "      <td>covered FSI</td>\n",
       "      <td>in, and interpreted in accordance with, 12 C.F...</td>\n",
       "      <td>( ii)\" Covered Entity\" means any of the follow...</td>\n",
       "    </tr>\n",
       "    <tr>\n",
       "      <th>374</th>\n",
       "      <td>Default Right</td>\n",
       "      <td>assigned to that term in, and shall be interpr...</td>\n",
       "      <td>( iii)\" Default Right\" has the meaning assigne...</td>\n",
       "    </tr>\n",
       "    <tr>\n",
       "      <th>375</th>\n",
       "      <td>qualified financial contract</td>\n",
       "      <td>in accordance with, 12 U.S.C. SS 5390(c)(8)(D).</td>\n",
       "      <td>177( iv)\" QFC\" has the meaning assigned to the...</td>\n",
       "    </tr>\n",
       "  </tbody>\n",
       "</table>\n",
       "<p>376 rows × 3 columns</p>\n",
       "</div>"
      ],
      "text/plain": [
       "                              Term  \\\n",
       "0                         Borrower   \n",
       "1             Administrative Agent   \n",
       "2                   this Agreement   \n",
       "3                        hereunder   \n",
       "4                           hereof   \n",
       "..                             ...   \n",
       "371                 Covered Entity   \n",
       "372                   covered bank   \n",
       "373                    covered FSI   \n",
       "374                  Default Right   \n",
       "375   qualified financial contract   \n",
       "\n",
       "                                            Definition  \\\n",
       "0    of Section 2.9, the entities identified as Sub...   \n",
       "1    of Section 2.9, the entities identified as Sub...   \n",
       "2    and be a reference to the Credit Agreement as ...   \n",
       "3    and be a reference to the Credit Agreement as ...   \n",
       "4    and be a reference to the Credit Agreement as ...   \n",
       "..                                                 ...   \n",
       "371  any of the following:( A) a\" covered entity\" a...   \n",
       "372  in, and interpreted in accordance with, 12 C.F...   \n",
       "373  in, and interpreted in accordance with, 12 C.F...   \n",
       "374  assigned to that term in, and shall be interpr...   \n",
       "375    in accordance with, 12 U.S.C. SS 5390(c)(8)(D).   \n",
       "\n",
       "                                                Phrase  \n",
       "0    , a Maryland corporation( the\" Borrower\"), ING...  \n",
       "1    , a Maryland corporation( the\" Borrower\"), ING...  \n",
       "2    Upon the effectiveness of this Amendment, each...  \n",
       "3    Upon the effectiveness of this Amendment, each...  \n",
       "4    Upon the effectiveness of this Amendment, each...  \n",
       "..                                                 ...  \n",
       "371  ( ii)\" Covered Entity\" means any of the follow...  \n",
       "372  ( ii)\" Covered Entity\" means any of the follow...  \n",
       "373  ( ii)\" Covered Entity\" means any of the follow...  \n",
       "374  ( iii)\" Default Right\" has the meaning assigne...  \n",
       "375  177( iv)\" QFC\" has the meaning assigned to the...  \n",
       "\n",
       "[376 rows x 3 columns]"
      ]
     },
     "execution_count": 29,
     "metadata": {},
     "output_type": "execute_result"
    }
   ],
   "source": [
    "pd.DataFrame([(df.term,df.definition,df.phrase) for df in doc.glossary],columns=[\"Term\",\"Definition\",\"Phrase\"])"
   ]
  },
  {
   "cell_type": "code",
   "execution_count": null,
   "metadata": {},
   "outputs": [],
   "source": []
  }
 ],
 "metadata": {
  "kernelspec": {
   "display_name": "Python 3",
   "language": "python",
   "name": "python3"
  },
  "language_info": {
   "codemirror_mode": {
    "name": "ipython",
    "version": 3
   },
   "file_extension": ".py",
   "mimetype": "text/x-python",
   "name": "python",
   "nbconvert_exporter": "python",
   "pygments_lexer": "ipython3",
   "version": "3.11.1"
  }
 },
 "nbformat": 4,
 "nbformat_minor": 2
}

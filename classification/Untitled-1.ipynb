{
 "cells": [
  {
   "cell_type": "code",
   "execution_count": 1,
   "metadata": {},
   "outputs": [],
   "source": [
    "import pandas as pd"
   ]
  },
  {
   "cell_type": "code",
   "execution_count": 9,
   "metadata": {},
   "outputs": [],
   "source": [
    "import glob\n",
    "results = []\n",
    "\n",
    "# Specify the directory path where your text files are located\n",
    "directory_path = \"./tests/\"\n",
    "\n",
    "# Use glob to get a list of all files with the .txt extension in the specified directory\n",
    "txt_files = glob.glob(directory_path + \"*.txt\")\n",
    "\n",
    "# Iterate over the list of text files and perform actions\n",
    "for file_path in txt_files:\n",
    "    with open(file_path, 'r',encoding=\"utf-8\") as file:\n",
    "        # Do something with the contents of the file\n",
    "        file_contents = file.readlines()\n",
    "        file_contents = [item for item in file_contents if item.strip() != \"\\n\"]\n",
    "        results.extend(file_contents[:10])"
   ]
  },
  {
   "cell_type": "code",
   "execution_count": 10,
   "metadata": {},
   "outputs": [],
   "source": [
    "df = pd.DataFrame(results)"
   ]
  },
  {
   "cell_type": "code",
   "execution_count": 11,
   "metadata": {},
   "outputs": [],
   "source": [
    "df[0] = df[0].apply(lambda x: x.strip().replace(\"\\n\",\"\"))"
   ]
  },
  {
   "cell_type": "code",
   "execution_count": 13,
   "metadata": {},
   "outputs": [],
   "source": [
    "df.loc[df[0]!=\"\"].to_excel('document_types2.xlsx')"
   ]
  },
  {
   "cell_type": "code",
   "execution_count": 23,
   "metadata": {},
   "outputs": [
    {
     "name": "stdout",
     "output_type": "stream",
     "text": [
      "Fetching master files\n",
      "Downloading https://www.sec.gov/Archives/edgar/full-index/2023/QTR1/master.zip\n",
      "Downloading https://www.sec.gov/Archives/edgar/full-index/2023/QTR2/master.zip\n",
      "Downloading https://www.sec.gov/Archives/edgar/full-index/2023/QTR3/master.zip\n",
      "Downloading https://www.sec.gov/Archives/edgar/full-index/2023/QTR4/master.zip\n",
      "Downloading https://www.sec.gov/Archives/edgar/full-index/2022/QTR1/master.zip\n",
      "Downloading https://www.sec.gov/Archives/edgar/full-index/2022/QTR2/master.zip\n",
      "Downloading https://www.sec.gov/Archives/edgar/full-index/2022/QTR3/master.zip\n",
      "Downloading https://www.sec.gov/Archives/edgar/full-index/2022/QTR4/master.zip\n",
      "Downloading https://www.sec.gov/Archives/edgar/full-index/2021/QTR1/master.zip\n",
      "Downloading https://www.sec.gov/Archives/edgar/full-index/2021/QTR2/master.zip\n",
      "Downloading https://www.sec.gov/Archives/edgar/full-index/2021/QTR3/master.zip\n",
      "Downloading https://www.sec.gov/Archives/edgar/full-index/2021/QTR4/master.zip\n",
      "Downloading https://www.sec.gov/Archives/edgar/full-index/2020/QTR1/master.zip\n",
      "Downloading https://www.sec.gov/Archives/edgar/full-index/2020/QTR2/master.zip\n",
      "Downloading https://www.sec.gov/Archives/edgar/full-index/2020/QTR3/master.zip\n",
      "Downloading https://www.sec.gov/Archives/edgar/full-index/2020/QTR4/master.zip\n",
      "Downloading https://www.sec.gov/Archives/edgar/full-index/2019/QTR1/master.zip\n",
      "Downloading https://www.sec.gov/Archives/edgar/full-index/2019/QTR2/master.zip\n",
      "Downloading https://www.sec.gov/Archives/edgar/full-index/2019/QTR3/master.zip\n",
      "Downloading https://www.sec.gov/Archives/edgar/full-index/2019/QTR4/master.zip\n",
      "Downloading https://www.sec.gov/Archives/edgar/full-index/2018/QTR1/master.zip\n",
      "Downloading https://www.sec.gov/Archives/edgar/full-index/2018/QTR2/master.zip\n",
      "Downloading https://www.sec.gov/Archives/edgar/full-index/2018/QTR3/master.zip\n",
      "Downloading https://www.sec.gov/Archives/edgar/full-index/2018/QTR4/master.zip\n",
      "Downloading https://www.sec.gov/Archives/edgar/full-index/2017/QTR1/master.zip\n",
      "Downloading https://www.sec.gov/Archives/edgar/full-index/2017/QTR2/master.zip\n",
      "Downloading https://www.sec.gov/Archives/edgar/full-index/2017/QTR3/master.zip\n",
      "Downloading https://www.sec.gov/Archives/edgar/full-index/2017/QTR4/master.zip\n",
      "Downloading https://www.sec.gov/Archives/edgar/full-index/2016/QTR1/master.zip\n",
      "Downloading https://www.sec.gov/Archives/edgar/full-index/2016/QTR2/master.zip\n",
      "Downloading https://www.sec.gov/Archives/edgar/full-index/2016/QTR3/master.zip\n",
      "Downloading https://www.sec.gov/Archives/edgar/full-index/2016/QTR4/master.zip\n",
      "Downloading https://www.sec.gov/Archives/edgar/full-index/2015/QTR1/master.zip\n",
      "Downloading https://www.sec.gov/Archives/edgar/full-index/2015/QTR2/master.zip\n",
      "Downloading https://www.sec.gov/Archives/edgar/full-index/2015/QTR3/master.zip\n",
      "Downloading https://www.sec.gov/Archives/edgar/full-index/2015/QTR4/master.zip\n",
      "Downloading https://www.sec.gov/Archives/edgar/full-index/2014/QTR1/master.zip\n",
      "Downloading https://www.sec.gov/Archives/edgar/full-index/2014/QTR2/master.zip\n",
      "Downloading https://www.sec.gov/Archives/edgar/full-index/2014/QTR3/master.zip\n",
      "Downloading https://www.sec.gov/Archives/edgar/full-index/2014/QTR4/master.zip\n",
      "Downloading https://www.sec.gov/Archives/edgar/full-index/2013/QTR1/master.zip\n",
      "Downloading https://www.sec.gov/Archives/edgar/full-index/2013/QTR2/master.zip\n",
      "Downloading https://www.sec.gov/Archives/edgar/full-index/2013/QTR3/master.zip\n",
      "Downloading https://www.sec.gov/Archives/edgar/full-index/2013/QTR4/master.zip\n",
      "Downloading https://www.sec.gov/Archives/edgar/full-index/2012/QTR1/master.zip\n",
      "Downloading https://www.sec.gov/Archives/edgar/full-index/2012/QTR2/master.zip\n",
      "Downloading https://www.sec.gov/Archives/edgar/full-index/2012/QTR3/master.zip\n",
      "Downloading https://www.sec.gov/Archives/edgar/full-index/2012/QTR4/master.zip\n",
      "Downloading https://www.sec.gov/Archives/edgar/full-index/2011/QTR1/master.zip\n",
      "Downloading https://www.sec.gov/Archives/edgar/full-index/2011/QTR2/master.zip\n",
      "Downloading https://www.sec.gov/Archives/edgar/full-index/2011/QTR3/master.zip\n",
      "Downloading https://www.sec.gov/Archives/edgar/full-index/2011/QTR4/master.zip\n",
      "Downloading https://www.sec.gov/Archives/edgar/full-index/2010/QTR1/master.zip\n",
      "Downloading https://www.sec.gov/Archives/edgar/full-index/2010/QTR2/master.zip\n",
      "Downloading https://www.sec.gov/Archives/edgar/full-index/2010/QTR3/master.zip\n",
      "Downloading https://www.sec.gov/Archives/edgar/full-index/2010/QTR4/master.zip\n",
      "Downloading https://www.sec.gov/Archives/edgar/full-index/2009/QTR1/master.zip\n",
      "Downloading https://www.sec.gov/Archives/edgar/full-index/2009/QTR2/master.zip\n",
      "Downloading https://www.sec.gov/Archives/edgar/full-index/2009/QTR3/master.zip\n",
      "Downloading https://www.sec.gov/Archives/edgar/full-index/2009/QTR4/master.zip\n",
      "Downloading https://www.sec.gov/Archives/edgar/full-index/2008/QTR1/master.zip\n",
      "Downloading https://www.sec.gov/Archives/edgar/full-index/2008/QTR2/master.zip\n",
      "Downloading https://www.sec.gov/Archives/edgar/full-index/2008/QTR3/master.zip\n",
      "Downloading https://www.sec.gov/Archives/edgar/full-index/2008/QTR4/master.zip\n",
      "Downloading https://www.sec.gov/Archives/edgar/full-index/2007/QTR1/master.zip\n",
      "Downloading https://www.sec.gov/Archives/edgar/full-index/2007/QTR2/master.zip\n",
      "Downloading https://www.sec.gov/Archives/edgar/full-index/2007/QTR3/master.zip\n",
      "Downloading https://www.sec.gov/Archives/edgar/full-index/2007/QTR4/master.zip\n",
      "Downloading https://www.sec.gov/Archives/edgar/full-index/2006/QTR1/master.zip\n",
      "Downloading https://www.sec.gov/Archives/edgar/full-index/2006/QTR2/master.zip\n",
      "Downloading https://www.sec.gov/Archives/edgar/full-index/2006/QTR3/master.zip\n",
      "Downloading https://www.sec.gov/Archives/edgar/full-index/2006/QTR4/master.zip\n",
      "Downloading https://www.sec.gov/Archives/edgar/full-index/2005/QTR1/master.zip\n",
      "Downloading https://www.sec.gov/Archives/edgar/full-index/2005/QTR2/master.zip\n",
      "Downloading https://www.sec.gov/Archives/edgar/full-index/2005/QTR3/master.zip\n",
      "Downloading https://www.sec.gov/Archives/edgar/full-index/2005/QTR4/master.zip\n",
      "Downloading https://www.sec.gov/Archives/edgar/full-index/2004/QTR1/master.zip\n",
      "Downloading https://www.sec.gov/Archives/edgar/full-index/2004/QTR2/master.zip\n",
      "Downloading https://www.sec.gov/Archives/edgar/full-index/2004/QTR3/master.zip\n",
      "Downloading https://www.sec.gov/Archives/edgar/full-index/2004/QTR4/master.zip\n",
      "Downloading https://www.sec.gov/Archives/edgar/full-index/2003/QTR1/master.zip\n",
      "Downloading https://www.sec.gov/Archives/edgar/full-index/2003/QTR2/master.zip\n",
      "Downloading https://www.sec.gov/Archives/edgar/full-index/2003/QTR3/master.zip\n",
      "Downloading https://www.sec.gov/Archives/edgar/full-index/2003/QTR4/master.zip\n",
      "Downloading https://www.sec.gov/Archives/edgar/full-index/2002/QTR1/master.zip\n",
      "Downloading https://www.sec.gov/Archives/edgar/full-index/2002/QTR2/master.zip\n",
      "Downloading https://www.sec.gov/Archives/edgar/full-index/2002/QTR3/master.zip\n",
      "Downloading https://www.sec.gov/Archives/edgar/full-index/2002/QTR4/master.zip\n",
      "Downloading https://www.sec.gov/Archives/edgar/full-index/2001/QTR1/master.zip\n",
      "Downloading https://www.sec.gov/Archives/edgar/full-index/2001/QTR2/master.zip\n",
      "Downloading https://www.sec.gov/Archives/edgar/full-index/2001/QTR3/master.zip\n",
      "Downloading https://www.sec.gov/Archives/edgar/full-index/2001/QTR4/master.zip\n",
      "Downloading https://www.sec.gov/Archives/edgar/full-index/2000/QTR1/master.zip\n",
      "Downloading https://www.sec.gov/Archives/edgar/full-index/2000/QTR2/master.zip\n",
      "Downloading https://www.sec.gov/Archives/edgar/full-index/2000/QTR3/master.zip\n",
      "Downloading https://www.sec.gov/Archives/edgar/full-index/2000/QTR4/master.zip\n",
      "Downloading https://www.sec.gov/Archives/edgar/full-index/1999/QTR1/master.zip\n",
      "Downloading https://www.sec.gov/Archives/edgar/full-index/1999/QTR2/master.zip\n",
      "Downloading https://www.sec.gov/Archives/edgar/full-index/1999/QTR3/master.zip\n",
      "Downloading https://www.sec.gov/Archives/edgar/full-index/1999/QTR4/master.zip\n",
      "Downloading https://www.sec.gov/Archives/edgar/full-index/1998/QTR1/master.zip\n",
      "Downloading https://www.sec.gov/Archives/edgar/full-index/1998/QTR2/master.zip\n",
      "Downloading https://www.sec.gov/Archives/edgar/full-index/1998/QTR3/master.zip\n",
      "Downloading https://www.sec.gov/Archives/edgar/full-index/1998/QTR4/master.zip\n",
      "Downloading https://www.sec.gov/Archives/edgar/full-index/1997/QTR1/master.zip\n",
      "Downloading https://www.sec.gov/Archives/edgar/full-index/1997/QTR2/master.zip\n",
      "Downloading https://www.sec.gov/Archives/edgar/full-index/1997/QTR3/master.zip\n",
      "Downloading https://www.sec.gov/Archives/edgar/full-index/1997/QTR4/master.zip\n",
      "Downloading https://www.sec.gov/Archives/edgar/full-index/1996/QTR1/master.zip\n",
      "Downloading https://www.sec.gov/Archives/edgar/full-index/1996/QTR2/master.zip\n",
      "Downloading https://www.sec.gov/Archives/edgar/full-index/1996/QTR3/master.zip\n",
      "Downloading https://www.sec.gov/Archives/edgar/full-index/1996/QTR4/master.zip\n",
      "Downloading https://www.sec.gov/Archives/edgar/full-index/1995/QTR1/master.zip\n",
      "Downloading https://www.sec.gov/Archives/edgar/full-index/1995/QTR2/master.zip\n",
      "Downloading https://www.sec.gov/Archives/edgar/full-index/1995/QTR3/master.zip\n",
      "Downloading https://www.sec.gov/Archives/edgar/full-index/1995/QTR4/master.zip\n",
      "Downloading https://www.sec.gov/Archives/edgar/full-index/1994/QTR1/master.zip\n",
      "Downloading https://www.sec.gov/Archives/edgar/full-index/1994/QTR2/master.zip\n",
      "Downloading https://www.sec.gov/Archives/edgar/full-index/1994/QTR3/master.zip\n",
      "Downloading https://www.sec.gov/Archives/edgar/full-index/1994/QTR4/master.zip\n",
      "Downloading https://www.sec.gov/Archives/edgar/full-index/1993/QTR1/master.zip\n",
      "Downloading https://www.sec.gov/Archives/edgar/full-index/1993/QTR2/master.zip\n",
      "Downloading https://www.sec.gov/Archives/edgar/full-index/1993/QTR3/master.zip\n",
      "Downloading https://www.sec.gov/Archives/edgar/full-index/1993/QTR4/master.zip\n",
      "Fetching contracts\n",
      "2023\n",
      "QTR1\n",
      "2024-03-08 09:10:38 2023 QTR1 Downloading index https://www.sec.gov/Archives/edgar/data\\000095017023002704\\0000950170-23-002704-index.html\n"
     ]
    },
    {
     "ename": "TooManyRedirects",
     "evalue": "Exceeded 30 redirects.",
     "output_type": "error",
     "traceback": [
      "\u001b[1;31m---------------------------------------------------------------------------\u001b[0m",
      "\u001b[1;31mTooManyRedirects\u001b[0m                          Traceback (most recent call last)",
      "\u001b[1;32mUntitled-1.ipynb Cell 6\u001b[0m line \u001b[0;36m1\n\u001b[0;32m    <a href='vscode-notebook-cell:Untitled-1.ipynb?jupyter-notebook#X10sdW50aXRsZWQ%3D?line=116'>117</a>\u001b[0m fetch_master_files()\n\u001b[0;32m    <a href='vscode-notebook-cell:Untitled-1.ipynb?jupyter-notebook#X10sdW50aXRsZWQ%3D?line=117'>118</a>\u001b[0m \u001b[39mprint\u001b[39m(\u001b[39m'\u001b[39m\u001b[39mFetching contracts\u001b[39m\u001b[39m'\u001b[39m)\n\u001b[1;32m--> <a href='vscode-notebook-cell:Untitled-1.ipynb?jupyter-notebook#X10sdW50aXRsZWQ%3D?line=118'>119</a>\u001b[0m crawl_master_files()\n",
      "\u001b[1;32mUntitled-1.ipynb Cell 6\u001b[0m line \u001b[0;36m8\n\u001b[0;32m     <a href='vscode-notebook-cell:Untitled-1.ipynb?jupyter-notebook#X10sdW50aXRsZWQ%3D?line=84'>85</a>\u001b[0m \u001b[39mprint\u001b[39m(time\u001b[39m.\u001b[39mstrftime(\u001b[39m\"\u001b[39m\u001b[39m%\u001b[39m\u001b[39mY-\u001b[39m\u001b[39m%\u001b[39m\u001b[39mm-\u001b[39m\u001b[39m%d\u001b[39;00m\u001b[39m \u001b[39m\u001b[39m%\u001b[39m\u001b[39mH:\u001b[39m\u001b[39m%\u001b[39m\u001b[39mM:\u001b[39m\u001b[39m%\u001b[39m\u001b[39mS\u001b[39m\u001b[39m\"\u001b[39m, time\u001b[39m.\u001b[39mlocaltime()), year, q, \u001b[39m'\u001b[39m\u001b[39mDownloading index\u001b[39m\u001b[39m'\u001b[39m, index_url)\n\u001b[0;32m     <a href='vscode-notebook-cell:Untitled-1.ipynb?jupyter-notebook#X10sdW50aXRsZWQ%3D?line=85'>86</a>\u001b[0m time\u001b[39m.\u001b[39msleep(SLEEP_TIME)\n\u001b[1;32m---> <a href='vscode-notebook-cell:Untitled-1.ipynb?jupyter-notebook#X10sdW50aXRsZWQ%3D?line=86'>87</a>\u001b[0m index_html \u001b[39m=\u001b[39m get_with_max_redirects(index_url,headers\u001b[39m=\u001b[39;49mheader)\n\u001b[0;32m     <a href='vscode-notebook-cell:Untitled-1.ipynb?jupyter-notebook#X10sdW50aXRsZWQ%3D?line=87'>88</a>\u001b[0m \u001b[39mwith\u001b[39;00m \u001b[39mopen\u001b[39m(os\u001b[39m.\u001b[39mpath\u001b[39m.\u001b[39mjoin(filing_dir, filing_txt\u001b[39m.\u001b[39mreplace(\u001b[39m'\u001b[39m\u001b[39m.txt\u001b[39m\u001b[39m'\u001b[39m, \u001b[39m'\u001b[39m\u001b[39m'\u001b[39m) \u001b[39m+\u001b[39m \u001b[39m'\u001b[39m\u001b[39m-index.html\u001b[39m\u001b[39m'\u001b[39m), \u001b[39m'\u001b[39m\u001b[39mw\u001b[39m\u001b[39m'\u001b[39m,encoding\u001b[39m=\u001b[39m\u001b[39m\"\u001b[39m\u001b[39mutf-8\u001b[39m\u001b[39m\"\u001b[39m) \u001b[39mas\u001b[39;00m f:\n\u001b[0;32m     <a href='vscode-notebook-cell:Untitled-1.ipynb?jupyter-notebook#X10sdW50aXRsZWQ%3D?line=88'>89</a>\u001b[0m     f\u001b[39m.\u001b[39mwrite(index_html\u001b[39m.\u001b[39mtext)\n",
      "\u001b[1;32mUntitled-1.ipynb Cell 6\u001b[0m line \u001b[0;36m7\n\u001b[0;32m     <a href='vscode-notebook-cell:Untitled-1.ipynb?jupyter-notebook#X10sdW50aXRsZWQ%3D?line=74'>75</a>\u001b[0m session\u001b[39m.\u001b[39mmount(\u001b[39m'\u001b[39m\u001b[39mhttp://\u001b[39m\u001b[39m'\u001b[39m, adapter)\n\u001b[0;32m     <a href='vscode-notebook-cell:Untitled-1.ipynb?jupyter-notebook#X10sdW50aXRsZWQ%3D?line=75'>76</a>\u001b[0m session\u001b[39m.\u001b[39mmount(\u001b[39m'\u001b[39m\u001b[39mhttps://\u001b[39m\u001b[39m'\u001b[39m, adapter)\n\u001b[1;32m---> <a href='vscode-notebook-cell:Untitled-1.ipynb?jupyter-notebook#X10sdW50aXRsZWQ%3D?line=77'>78</a>\u001b[0m response \u001b[39m=\u001b[39m session\u001b[39m.\u001b[39;49mget(url, headers\u001b[39m=\u001b[39;49mheaders)\n\u001b[0;32m     <a href='vscode-notebook-cell:Untitled-1.ipynb?jupyter-notebook#X10sdW50aXRsZWQ%3D?line=79'>80</a>\u001b[0m \u001b[39mreturn\u001b[39;00m response\n",
      "File \u001b[1;32mc:\\Users\\seang\\AppData\\Local\\Programs\\Python\\Python311\\Lib\\site-packages\\requests\\sessions.py:600\u001b[0m, in \u001b[0;36mSession.get\u001b[1;34m(self, url, **kwargs)\u001b[0m\n\u001b[0;32m    592\u001b[0m \u001b[39m\u001b[39m\u001b[39mr\u001b[39m\u001b[39m\"\"\"Sends a GET request. Returns :class:`Response` object.\u001b[39;00m\n\u001b[0;32m    593\u001b[0m \n\u001b[0;32m    594\u001b[0m \u001b[39m:param url: URL for the new :class:`Request` object.\u001b[39;00m\n\u001b[0;32m    595\u001b[0m \u001b[39m:param \\*\\*kwargs: Optional arguments that ``request`` takes.\u001b[39;00m\n\u001b[0;32m    596\u001b[0m \u001b[39m:rtype: requests.Response\u001b[39;00m\n\u001b[0;32m    597\u001b[0m \u001b[39m\"\"\"\u001b[39;00m\n\u001b[0;32m    599\u001b[0m kwargs\u001b[39m.\u001b[39msetdefault(\u001b[39m\"\u001b[39m\u001b[39mallow_redirects\u001b[39m\u001b[39m\"\u001b[39m, \u001b[39mTrue\u001b[39;00m)\n\u001b[1;32m--> 600\u001b[0m \u001b[39mreturn\u001b[39;00m \u001b[39mself\u001b[39;49m\u001b[39m.\u001b[39;49mrequest(\u001b[39m\"\u001b[39;49m\u001b[39mGET\u001b[39;49m\u001b[39m\"\u001b[39;49m, url, \u001b[39m*\u001b[39;49m\u001b[39m*\u001b[39;49mkwargs)\n",
      "File \u001b[1;32mc:\\Users\\seang\\AppData\\Local\\Programs\\Python\\Python311\\Lib\\site-packages\\requests\\sessions.py:587\u001b[0m, in \u001b[0;36mSession.request\u001b[1;34m(self, method, url, params, data, headers, cookies, files, auth, timeout, allow_redirects, proxies, hooks, stream, verify, cert, json)\u001b[0m\n\u001b[0;32m    582\u001b[0m send_kwargs \u001b[39m=\u001b[39m {\n\u001b[0;32m    583\u001b[0m     \u001b[39m\"\u001b[39m\u001b[39mtimeout\u001b[39m\u001b[39m\"\u001b[39m: timeout,\n\u001b[0;32m    584\u001b[0m     \u001b[39m\"\u001b[39m\u001b[39mallow_redirects\u001b[39m\u001b[39m\"\u001b[39m: allow_redirects,\n\u001b[0;32m    585\u001b[0m }\n\u001b[0;32m    586\u001b[0m send_kwargs\u001b[39m.\u001b[39mupdate(settings)\n\u001b[1;32m--> 587\u001b[0m resp \u001b[39m=\u001b[39m \u001b[39mself\u001b[39;49m\u001b[39m.\u001b[39;49msend(prep, \u001b[39m*\u001b[39;49m\u001b[39m*\u001b[39;49msend_kwargs)\n\u001b[0;32m    589\u001b[0m \u001b[39mreturn\u001b[39;00m resp\n",
      "File \u001b[1;32mc:\\Users\\seang\\AppData\\Local\\Programs\\Python\\Python311\\Lib\\site-packages\\requests\\sessions.py:723\u001b[0m, in \u001b[0;36mSession.send\u001b[1;34m(self, request, **kwargs)\u001b[0m\n\u001b[0;32m    720\u001b[0m \u001b[39mif\u001b[39;00m allow_redirects:\n\u001b[0;32m    721\u001b[0m     \u001b[39m# Redirect resolving generator.\u001b[39;00m\n\u001b[0;32m    722\u001b[0m     gen \u001b[39m=\u001b[39m \u001b[39mself\u001b[39m\u001b[39m.\u001b[39mresolve_redirects(r, request, \u001b[39m*\u001b[39m\u001b[39m*\u001b[39mkwargs)\n\u001b[1;32m--> 723\u001b[0m     history \u001b[39m=\u001b[39m [resp \u001b[39mfor\u001b[39;49;00m resp \u001b[39min\u001b[39;49;00m gen]\n\u001b[0;32m    724\u001b[0m \u001b[39melse\u001b[39;00m:\n\u001b[0;32m    725\u001b[0m     history \u001b[39m=\u001b[39m []\n",
      "File \u001b[1;32mc:\\Users\\seang\\AppData\\Local\\Programs\\Python\\Python311\\Lib\\site-packages\\requests\\sessions.py:723\u001b[0m, in \u001b[0;36m<listcomp>\u001b[1;34m(.0)\u001b[0m\n\u001b[0;32m    720\u001b[0m \u001b[39mif\u001b[39;00m allow_redirects:\n\u001b[0;32m    721\u001b[0m     \u001b[39m# Redirect resolving generator.\u001b[39;00m\n\u001b[0;32m    722\u001b[0m     gen \u001b[39m=\u001b[39m \u001b[39mself\u001b[39m\u001b[39m.\u001b[39mresolve_redirects(r, request, \u001b[39m*\u001b[39m\u001b[39m*\u001b[39mkwargs)\n\u001b[1;32m--> 723\u001b[0m     history \u001b[39m=\u001b[39m [resp \u001b[39mfor\u001b[39;00m resp \u001b[39min\u001b[39;00m gen]\n\u001b[0;32m    724\u001b[0m \u001b[39melse\u001b[39;00m:\n\u001b[0;32m    725\u001b[0m     history \u001b[39m=\u001b[39m []\n",
      "File \u001b[1;32mc:\\Users\\seang\\AppData\\Local\\Programs\\Python\\Python311\\Lib\\site-packages\\requests\\sessions.py:191\u001b[0m, in \u001b[0;36mSessionRedirectMixin.resolve_redirects\u001b[1;34m(self, resp, req, stream, timeout, verify, cert, proxies, yield_requests, **adapter_kwargs)\u001b[0m\n\u001b[0;32m    188\u001b[0m     resp\u001b[39m.\u001b[39mraw\u001b[39m.\u001b[39mread(decode_content\u001b[39m=\u001b[39m\u001b[39mFalse\u001b[39;00m)\n\u001b[0;32m    190\u001b[0m \u001b[39mif\u001b[39;00m \u001b[39mlen\u001b[39m(resp\u001b[39m.\u001b[39mhistory) \u001b[39m>\u001b[39m\u001b[39m=\u001b[39m \u001b[39mself\u001b[39m\u001b[39m.\u001b[39mmax_redirects:\n\u001b[1;32m--> 191\u001b[0m     \u001b[39mraise\u001b[39;00m TooManyRedirects(\n\u001b[0;32m    192\u001b[0m         \u001b[39mf\u001b[39m\u001b[39m\"\u001b[39m\u001b[39mExceeded \u001b[39m\u001b[39m{\u001b[39;00m\u001b[39mself\u001b[39m\u001b[39m.\u001b[39mmax_redirects\u001b[39m}\u001b[39;00m\u001b[39m redirects.\u001b[39m\u001b[39m\"\u001b[39m, response\u001b[39m=\u001b[39mresp\n\u001b[0;32m    193\u001b[0m     )\n\u001b[0;32m    195\u001b[0m \u001b[39m# Release the connection back into the pool.\u001b[39;00m\n\u001b[0;32m    196\u001b[0m resp\u001b[39m.\u001b[39mclose()\n",
      "\u001b[1;31mTooManyRedirects\u001b[0m: Exceeded 30 redirects."
     ]
    }
   ],
   "source": [
    "import re\n",
    "import requests\n",
    "import os\n",
    "import time\n",
    "import zipfile\n",
    "\n",
    "OUTDIR = './edgar_files'\n",
    "BASE_URL = 'https://www.sec.gov/Archives/'\n",
    "YEARS = range(2023, 1992, -1)\n",
    "QS = ['QTR1', 'QTR2', 'QTR3', 'QTR4']\n",
    "VALID_FORMS = ['10-K', '10-Q', '8-K']\n",
    "SLEEP_TIME = 0.15\n",
    "header = {\"User-Agent\":\"sean.guarnacciO@gmail.com\"}\n",
    "\n",
    "def fetch_master_files():\n",
    "    \"\"\"Get the master files\"\"\"\n",
    "    \n",
    "    for year in YEARS:\n",
    "        year = str(year)\n",
    "        outdir_year = os.path.join(OUTDIR, year)\n",
    "        if not os.path.exists(outdir_year):\n",
    "            os.makedirs(outdir_year)\n",
    "\n",
    "        for q in QS:\n",
    "            outdir_year_q = os.path.join(outdir_year, q)\n",
    "            if not os.path.exists(outdir_year_q):\n",
    "                os.makedirs(outdir_year_q)\n",
    "\n",
    "            outdir_year_q_master = os.path.join(outdir_year_q, 'master.zip')\n",
    "            if not os.path.exists(outdir_year_q_master):\n",
    "                master_url = BASE_URL + 'edgar/full-index/' + year + '/' + q + '/master.zip'\n",
    "                print('Downloading', master_url)\n",
    "                time.sleep(SLEEP_TIME)\n",
    "                response = requests.get(master_url,headers=header)\n",
    "                with open(outdir_year_q_master, 'wb') as f:\n",
    "                    f.write(response.content)\n",
    "\n",
    "\n",
    "def crawl_master_files():\n",
    "    \"\"\"Get crawlable URLs from master files and download contracts\"\"\"\n",
    "\n",
    "    for year in YEARS:\n",
    "        print(year)\n",
    "        year = str(year)\n",
    "        outdir_year = os.path.join(OUTDIR, year)\n",
    "\n",
    "        for q in QS:\n",
    "            print(q)\n",
    "            outdir_year_q = os.path.join(outdir_year, q)\n",
    "            outdir_year_q_master = os.path.join(outdir_year_q, 'master.zip')\n",
    "            try:\n",
    "                z = zipfile.ZipFile(outdir_year_q_master)  # Fails for non-existant Qs, e.g. 2019 Q3\n",
    "            except:\n",
    "                continue\n",
    "\n",
    "            with z.open('master.idx') as f:\n",
    "\n",
    "                for line in f:\n",
    "                    line = line.decode('utf8', errors='ignore')\n",
    "\n",
    "                    if line[0].isdigit():  # CIK number\n",
    "                        line = line.split('|')\n",
    "\n",
    "                        if line[2] in VALID_FORMS:\n",
    "                            filing_txt = line[4].strip().split('/')[-1]\n",
    "                            filing_id = filing_txt.replace('-', '').replace('.txt', '')\n",
    "                            filing_dir = os.path.join(outdir_year_q, filing_id)\n",
    "                            if not os.path.exists(filing_dir):\n",
    "                                os.makedirs(filing_dir)\n",
    "                            MAX_REDIRECTS = 50  # You can adjust this number based on your needs\n",
    "\n",
    "                            def get_with_max_redirects(url, headers=None):\n",
    "                                session = requests.Session()\n",
    "                                adapter = requests.adapters.HTTPAdapter(max_retries=MAX_REDIRECTS)\n",
    "                                session.mount('http://', adapter)\n",
    "                                session.mount('https://', adapter)\n",
    "\n",
    "                                response = session.get(url, headers=headers)\n",
    "\n",
    "                                return response\n",
    "\n",
    "                            filing_index = os.path.join(filing_dir, filing_txt.replace('.txt', '') + '-index.html')\n",
    "                            if not os.path.exists(filing_index):  # Check if we already have downloaded the filing index\n",
    "                                index_url = os.path.join(BASE_URL, 'edgar/data', filing_id, filing_txt.replace('.txt', '') + '-index.html')\n",
    "                                print(time.strftime(\"%Y-%m-%d %H:%M:%S\", time.localtime()), year, q, 'Downloading index', index_url)\n",
    "                                time.sleep(SLEEP_TIME)\n",
    "                                index_html = get_with_max_redirects(index_url,headers=header)\n",
    "                                with open(os.path.join(filing_dir, filing_txt.replace('.txt', '') + '-index.html'), 'w',encoding=\"utf-8\") as f:\n",
    "                                    f.write(index_html.text)\n",
    "\n",
    "                            # Load the index_html\n",
    "                            index_html = open(filing_index).read()\n",
    "                            trs = re.findall('<tr[^>]*>(.*?)</tr>', index_html, re.S)\n",
    "\n",
    "                            for row in trs:\n",
    "                                if '<td' not in row:\n",
    "                                    continue\n",
    "\n",
    "                                tds = re.split('</?td[^>]*>', row)\n",
    "                                if tds[7].startswith('EX-10'):\n",
    "                                    file_name = re.search('\"(.+)\"', tds[5]).group(1)\n",
    "                                    file_url = 'https://www.sec.gov' + file_name\n",
    "\n",
    "                                    if file_url.endswith('htm') or file_url.endswith('html'):\n",
    "                                        filing_file = os.path.join(filing_dir, file_name.split('/')[-1])\n",
    "\n",
    "                                        if not os.path.exists(filing_file):\n",
    "                                            print(time.strftime(\"%Y-%m-%d %H:%M:%S\", time.localtime()), year, q, 'Downloading contract', file_url)\n",
    "                                            filing_html = get_with_max_redirects(file_url,headers=header)\n",
    "                                            with open(filing_file, 'w') as f:\n",
    "                                                f.write(filing_html.text)\n",
    "                                                \n",
    "\n",
    "if __name__ == '__main__':\n",
    "\n",
    "    print('Fetching master files')\n",
    "    fetch_master_files()\n",
    "    print('Fetching contracts')\n",
    "    crawl_master_files()"
   ]
  },
  {
   "cell_type": "code",
   "execution_count": 24,
   "metadata": {},
   "outputs": [],
   "source": [
    "html = open(\"C:/Users/seang/OneDrive/New Folder/data/2018/QTR1/000000217818000009/a4q2017exhibit104.htm\").read()\n",
    "\n",
    "# Two major html layouts: <p> or <div> tags for paragraphs\n",
    "if '<p' in html or '<P' in html:\n",
    "    elem_regex = re.compile('<[Pp][^>]*>(.*?)</[Pp]>', re.S)\n",
    "else:\n",
    "    elem_regex = re.compile('<div[ >].*?</div>', re.S)\n",
    "\n",
    "# Label highlighting is either <u> or <font> tag\n",
    "u_tag, font_tag = False, False\n",
    "if '<u>' in html or '<U>' in html:\n",
    "    u_tag = True\n",
    "elif '<font' in html and ('underline' in html or 'bold' in html):\n",
    "    font_tag = True\n",
    "\n",
    "ps = elem_regex.findall(html)"
   ]
  },
  {
   "cell_type": "code",
   "execution_count": 33,
   "metadata": {},
   "outputs": [],
   "source": [
    "from bs4 import BeautifulSoup\n",
    "\n",
    "def extract_text_from_html(html_file_path):\n",
    "    with open(html_file_path, 'r', encoding='utf-8') as file:\n",
    "        html_content = file.read()\n",
    "\n",
    "    soup = BeautifulSoup(html_content, 'html.parser')\n",
    "    text = soup.get_text(separator='\\n', strip=True)\n",
    "\n",
    "    return text\n",
    "\n",
    "text = extract_text_from_html(\"C:/Users/seang/OneDrive/New Folder/data/2018/QTR1/000000217818000009/a4q2017exhibit104.htm\")"
   ]
  },
  {
   "cell_type": "code",
   "execution_count": 36,
   "metadata": {},
   "outputs": [
    {
     "data": {
      "text/plain": [
       "58159"
      ]
     },
     "execution_count": 36,
     "metadata": {},
     "output_type": "execute_result"
    }
   ],
   "source": [
    "import os\n",
    "\n",
    "def find_html_files(directory):\n",
    "    html_files = []\n",
    "    for root, dirs, files in os.walk(directory):\n",
    "        for file in files:\n",
    "            if file.endswith('.htm'):\n",
    "                html_files.append(os.path.join(root, file))\n",
    "    return html_files\n",
    "\n",
    "# Replace 'your_directory' with the actual path to your root directory\n",
    "directory_to_search = 'C:/Users/seang/OneDrive/New Folder/data/'\n",
    "html_files_found = find_html_files(directory_to_search)\n",
    "\n",
    "len(html_files_found)\n"
   ]
  },
  {
   "cell_type": "code",
   "execution_count": 38,
   "metadata": {},
   "outputs": [],
   "source": [
    "from tqdm import tqdm"
   ]
  },
  {
   "cell_type": "code",
   "execution_count": 39,
   "metadata": {},
   "outputs": [
    {
     "name": "stderr",
     "output_type": "stream",
     "text": [
      "100%|██████████| 58159/58159 [1:16:29<00:00, 12.67it/s]  \n"
     ]
    }
   ],
   "source": [
    "results = []\n",
    "for file in tqdm(html_files_found):\n",
    "    text = extract_text_from_html(file)\n",
    "    file_contents = text.split(\"\\n\")\n",
    "    file_contents = [item for item in file_contents if item.strip() != \"\\n\"]\n",
    "    results.extend(file_contents[:10])"
   ]
  },
  {
   "cell_type": "code",
   "execution_count": 37,
   "metadata": {},
   "outputs": [],
   "source": [
    "import pandas as pd"
   ]
  },
  {
   "cell_type": "code",
   "execution_count": 43,
   "metadata": {},
   "outputs": [],
   "source": [
    "def clean_text(text):\n",
    "    return re.sub(r'[^\\x00-\\x7F]+', '', text)"
   ]
  },
  {
   "cell_type": "code",
   "execution_count": 54,
   "metadata": {},
   "outputs": [],
   "source": [
    "def clean_text(text):\n",
    "    # Remove characters outside the range of printable ASCII characters\n",
    "    cleaned_text = ''.join(char for char in text if 32 <= ord(char) < 127)\n",
    "    return cleaned_text"
   ]
  },
  {
   "cell_type": "code",
   "execution_count": 55,
   "metadata": {},
   "outputs": [],
   "source": [
    "cleaned_data = [clean_text(text) for text in results]\n",
    "df = pd.DataFrame(cleaned_data)"
   ]
  },
  {
   "cell_type": "code",
   "execution_count": 56,
   "metadata": {},
   "outputs": [],
   "source": [
    "df.to_excel('./doc_type_training.xlsx')"
   ]
  },
  {
   "cell_type": "code",
   "execution_count": 1,
   "metadata": {},
   "outputs": [
    {
     "name": "stdout",
     "output_type": "stream",
     "text": [
      "Looking in indexes: https://pypi.org/simple, https://pypi.ngc.nvidia.comNote: you may need to restart the kernel to use updated packages.\n"
     ]
    },
    {
     "name": "stderr",
     "output_type": "stream",
     "text": [
      "\n",
      "[notice] A new release of pip available: 22.3.1 -> 24.0\n",
      "[notice] To update, run: python.exe -m pip install --upgrade pip\n"
     ]
    },
    {
     "name": "stdout",
     "output_type": "stream",
     "text": [
      "\n",
      "Collecting xgboost\n",
      "  Downloading xgboost-2.0.3-py3-none-win_amd64.whl (99.8 MB)\n",
      "     --------------------------------------- 99.8/99.8 MB 28.5 MB/s eta 0:00:00\n",
      "Requirement already satisfied: numpy in c:\\users\\seang\\appdata\\local\\programs\\python\\python311\\lib\\site-packages (from xgboost) (1.25.2)\n",
      "Requirement already satisfied: scipy in c:\\users\\seang\\appdata\\local\\programs\\python\\python311\\lib\\site-packages (from xgboost) (1.9.3)\n",
      "Installing collected packages: xgboost\n",
      "Successfully installed xgboost-2.0.3\n"
     ]
    }
   ],
   "source": [
    "%pip install xgboost"
   ]
  },
  {
   "cell_type": "code",
   "execution_count": null,
   "metadata": {},
   "outputs": [],
   "source": []
  }
 ],
 "metadata": {
  "kernelspec": {
   "display_name": "Python 3",
   "language": "python",
   "name": "python3"
  },
  "language_info": {
   "codemirror_mode": {
    "name": "ipython",
    "version": 3
   },
   "file_extension": ".py",
   "mimetype": "text/x-python",
   "name": "python",
   "nbconvert_exporter": "python",
   "pygments_lexer": "ipython3",
   "version": "3.11.1"
  }
 },
 "nbformat": 4,
 "nbformat_minor": 2
}
